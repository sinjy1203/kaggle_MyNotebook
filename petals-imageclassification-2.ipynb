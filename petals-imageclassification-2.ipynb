{
 "cells": [
  {
   "cell_type": "code",
   "execution_count": 1,
   "id": "5dad0455",
   "metadata": {
    "_cell_guid": "b1076dfc-b9ad-4769-8c92-a6c4dae69d19",
    "_uuid": "8f2839f25d086af736a60e9eeb907d3b93b6e0e5",
    "execution": {
     "iopub.execute_input": "2022-09-21T05:03:33.051867Z",
     "iopub.status.busy": "2022-09-21T05:03:33.048721Z",
     "iopub.status.idle": "2022-09-21T05:03:33.152836Z",
     "shell.execute_reply": "2022-09-21T05:03:33.151595Z"
    },
    "papermill": {
     "duration": 0.116151,
     "end_time": "2022-09-21T05:03:33.155929",
     "exception": false,
     "start_time": "2022-09-21T05:03:33.039778",
     "status": "completed"
    },
    "tags": []
   },
   "outputs": [
    {
     "name": "stdout",
     "output_type": "stream",
     "text": [
      "/kaggle/input/tpu-getting-started/sample_submission.csv\n",
      "/kaggle/input/tpu-getting-started/tfrecords-jpeg-224x224/val/09-224x224-232.tfrec\n",
      "/kaggle/input/tpu-getting-started/tfrecords-jpeg-224x224/val/14-224x224-232.tfrec\n",
      "/kaggle/input/tpu-getting-started/tfrecords-jpeg-224x224/val/01-224x224-232.tfrec\n",
      "/kaggle/input/tpu-getting-started/tfrecords-jpeg-224x224/val/13-224x224-232.tfrec\n",
      "/kaggle/input/tpu-getting-started/tfrecords-jpeg-224x224/val/00-224x224-232.tfrec\n",
      "/kaggle/input/tpu-getting-started/tfrecords-jpeg-224x224/val/07-224x224-232.tfrec\n",
      "/kaggle/input/tpu-getting-started/tfrecords-jpeg-224x224/val/12-224x224-232.tfrec\n",
      "/kaggle/input/tpu-getting-started/tfrecords-jpeg-224x224/val/11-224x224-232.tfrec\n",
      "/kaggle/input/tpu-getting-started/tfrecords-jpeg-224x224/val/05-224x224-232.tfrec\n",
      "/kaggle/input/tpu-getting-started/tfrecords-jpeg-224x224/val/04-224x224-232.tfrec\n",
      "/kaggle/input/tpu-getting-started/tfrecords-jpeg-224x224/val/15-224x224-232.tfrec\n",
      "/kaggle/input/tpu-getting-started/tfrecords-jpeg-224x224/val/06-224x224-232.tfrec\n",
      "/kaggle/input/tpu-getting-started/tfrecords-jpeg-224x224/val/02-224x224-232.tfrec\n",
      "/kaggle/input/tpu-getting-started/tfrecords-jpeg-224x224/val/03-224x224-232.tfrec\n",
      "/kaggle/input/tpu-getting-started/tfrecords-jpeg-224x224/val/08-224x224-232.tfrec\n",
      "/kaggle/input/tpu-getting-started/tfrecords-jpeg-224x224/val/10-224x224-232.tfrec\n",
      "/kaggle/input/tpu-getting-started/tfrecords-jpeg-224x224/test/04-224x224-462.tfrec\n",
      "/kaggle/input/tpu-getting-started/tfrecords-jpeg-224x224/test/06-224x224-462.tfrec\n",
      "/kaggle/input/tpu-getting-started/tfrecords-jpeg-224x224/test/05-224x224-462.tfrec\n",
      "/kaggle/input/tpu-getting-started/tfrecords-jpeg-224x224/test/08-224x224-462.tfrec\n",
      "/kaggle/input/tpu-getting-started/tfrecords-jpeg-224x224/test/15-224x224-452.tfrec\n",
      "/kaggle/input/tpu-getting-started/tfrecords-jpeg-224x224/test/09-224x224-462.tfrec\n",
      "/kaggle/input/tpu-getting-started/tfrecords-jpeg-224x224/test/10-224x224-462.tfrec\n",
      "/kaggle/input/tpu-getting-started/tfrecords-jpeg-224x224/test/07-224x224-462.tfrec\n",
      "/kaggle/input/tpu-getting-started/tfrecords-jpeg-224x224/test/00-224x224-462.tfrec\n",
      "/kaggle/input/tpu-getting-started/tfrecords-jpeg-224x224/test/01-224x224-462.tfrec\n",
      "/kaggle/input/tpu-getting-started/tfrecords-jpeg-224x224/test/12-224x224-462.tfrec\n",
      "/kaggle/input/tpu-getting-started/tfrecords-jpeg-224x224/test/14-224x224-462.tfrec\n",
      "/kaggle/input/tpu-getting-started/tfrecords-jpeg-224x224/test/03-224x224-462.tfrec\n",
      "/kaggle/input/tpu-getting-started/tfrecords-jpeg-224x224/test/02-224x224-462.tfrec\n",
      "/kaggle/input/tpu-getting-started/tfrecords-jpeg-224x224/test/11-224x224-462.tfrec\n",
      "/kaggle/input/tpu-getting-started/tfrecords-jpeg-224x224/test/13-224x224-462.tfrec\n",
      "/kaggle/input/tpu-getting-started/tfrecords-jpeg-224x224/train/13-224x224-798.tfrec\n",
      "/kaggle/input/tpu-getting-started/tfrecords-jpeg-224x224/train/11-224x224-798.tfrec\n",
      "/kaggle/input/tpu-getting-started/tfrecords-jpeg-224x224/train/05-224x224-798.tfrec\n",
      "/kaggle/input/tpu-getting-started/tfrecords-jpeg-224x224/train/00-224x224-798.tfrec\n",
      "/kaggle/input/tpu-getting-started/tfrecords-jpeg-224x224/train/02-224x224-798.tfrec\n",
      "/kaggle/input/tpu-getting-started/tfrecords-jpeg-224x224/train/14-224x224-798.tfrec\n",
      "/kaggle/input/tpu-getting-started/tfrecords-jpeg-224x224/train/06-224x224-798.tfrec\n",
      "/kaggle/input/tpu-getting-started/tfrecords-jpeg-224x224/train/10-224x224-798.tfrec\n",
      "/kaggle/input/tpu-getting-started/tfrecords-jpeg-224x224/train/01-224x224-798.tfrec\n",
      "/kaggle/input/tpu-getting-started/tfrecords-jpeg-224x224/train/03-224x224-798.tfrec\n",
      "/kaggle/input/tpu-getting-started/tfrecords-jpeg-224x224/train/08-224x224-798.tfrec\n",
      "/kaggle/input/tpu-getting-started/tfrecords-jpeg-224x224/train/09-224x224-798.tfrec\n",
      "/kaggle/input/tpu-getting-started/tfrecords-jpeg-224x224/train/15-224x224-783.tfrec\n",
      "/kaggle/input/tpu-getting-started/tfrecords-jpeg-224x224/train/07-224x224-798.tfrec\n",
      "/kaggle/input/tpu-getting-started/tfrecords-jpeg-224x224/train/04-224x224-798.tfrec\n",
      "/kaggle/input/tpu-getting-started/tfrecords-jpeg-224x224/train/12-224x224-798.tfrec\n",
      "/kaggle/input/tpu-getting-started/tfrecords-jpeg-331x331/val/05-331x331-232.tfrec\n",
      "/kaggle/input/tpu-getting-started/tfrecords-jpeg-331x331/val/08-331x331-232.tfrec\n",
      "/kaggle/input/tpu-getting-started/tfrecords-jpeg-331x331/val/01-331x331-232.tfrec\n",
      "/kaggle/input/tpu-getting-started/tfrecords-jpeg-331x331/val/03-331x331-232.tfrec\n",
      "/kaggle/input/tpu-getting-started/tfrecords-jpeg-331x331/val/13-331x331-232.tfrec\n",
      "/kaggle/input/tpu-getting-started/tfrecords-jpeg-331x331/val/10-331x331-232.tfrec\n",
      "/kaggle/input/tpu-getting-started/tfrecords-jpeg-331x331/val/07-331x331-232.tfrec\n",
      "/kaggle/input/tpu-getting-started/tfrecords-jpeg-331x331/val/04-331x331-232.tfrec\n",
      "/kaggle/input/tpu-getting-started/tfrecords-jpeg-331x331/val/14-331x331-232.tfrec\n",
      "/kaggle/input/tpu-getting-started/tfrecords-jpeg-331x331/val/15-331x331-232.tfrec\n",
      "/kaggle/input/tpu-getting-started/tfrecords-jpeg-331x331/val/12-331x331-232.tfrec\n",
      "/kaggle/input/tpu-getting-started/tfrecords-jpeg-331x331/val/11-331x331-232.tfrec\n",
      "/kaggle/input/tpu-getting-started/tfrecords-jpeg-331x331/val/02-331x331-232.tfrec\n",
      "/kaggle/input/tpu-getting-started/tfrecords-jpeg-331x331/val/00-331x331-232.tfrec\n",
      "/kaggle/input/tpu-getting-started/tfrecords-jpeg-331x331/val/06-331x331-232.tfrec\n",
      "/kaggle/input/tpu-getting-started/tfrecords-jpeg-331x331/val/09-331x331-232.tfrec\n",
      "/kaggle/input/tpu-getting-started/tfrecords-jpeg-331x331/test/14-331x331-462.tfrec\n",
      "/kaggle/input/tpu-getting-started/tfrecords-jpeg-331x331/test/13-331x331-462.tfrec\n",
      "/kaggle/input/tpu-getting-started/tfrecords-jpeg-331x331/test/03-331x331-462.tfrec\n",
      "/kaggle/input/tpu-getting-started/tfrecords-jpeg-331x331/test/05-331x331-462.tfrec\n",
      "/kaggle/input/tpu-getting-started/tfrecords-jpeg-331x331/test/09-331x331-462.tfrec\n",
      "/kaggle/input/tpu-getting-started/tfrecords-jpeg-331x331/test/04-331x331-462.tfrec\n",
      "/kaggle/input/tpu-getting-started/tfrecords-jpeg-331x331/test/01-331x331-462.tfrec\n",
      "/kaggle/input/tpu-getting-started/tfrecords-jpeg-331x331/test/11-331x331-462.tfrec\n",
      "/kaggle/input/tpu-getting-started/tfrecords-jpeg-331x331/test/07-331x331-462.tfrec\n",
      "/kaggle/input/tpu-getting-started/tfrecords-jpeg-331x331/test/08-331x331-462.tfrec\n",
      "/kaggle/input/tpu-getting-started/tfrecords-jpeg-331x331/test/00-331x331-462.tfrec\n",
      "/kaggle/input/tpu-getting-started/tfrecords-jpeg-331x331/test/02-331x331-462.tfrec\n",
      "/kaggle/input/tpu-getting-started/tfrecords-jpeg-331x331/test/15-331x331-452.tfrec\n",
      "/kaggle/input/tpu-getting-started/tfrecords-jpeg-331x331/test/10-331x331-462.tfrec\n",
      "/kaggle/input/tpu-getting-started/tfrecords-jpeg-331x331/test/12-331x331-462.tfrec\n",
      "/kaggle/input/tpu-getting-started/tfrecords-jpeg-331x331/test/06-331x331-462.tfrec\n",
      "/kaggle/input/tpu-getting-started/tfrecords-jpeg-331x331/train/15-331x331-783.tfrec\n",
      "/kaggle/input/tpu-getting-started/tfrecords-jpeg-331x331/train/02-331x331-798.tfrec\n",
      "/kaggle/input/tpu-getting-started/tfrecords-jpeg-331x331/train/14-331x331-798.tfrec\n",
      "/kaggle/input/tpu-getting-started/tfrecords-jpeg-331x331/train/04-331x331-798.tfrec\n",
      "/kaggle/input/tpu-getting-started/tfrecords-jpeg-331x331/train/08-331x331-798.tfrec\n",
      "/kaggle/input/tpu-getting-started/tfrecords-jpeg-331x331/train/12-331x331-798.tfrec\n",
      "/kaggle/input/tpu-getting-started/tfrecords-jpeg-331x331/train/03-331x331-798.tfrec\n",
      "/kaggle/input/tpu-getting-started/tfrecords-jpeg-331x331/train/05-331x331-798.tfrec\n",
      "/kaggle/input/tpu-getting-started/tfrecords-jpeg-331x331/train/00-331x331-798.tfrec\n",
      "/kaggle/input/tpu-getting-started/tfrecords-jpeg-331x331/train/06-331x331-798.tfrec\n",
      "/kaggle/input/tpu-getting-started/tfrecords-jpeg-331x331/train/07-331x331-798.tfrec\n",
      "/kaggle/input/tpu-getting-started/tfrecords-jpeg-331x331/train/09-331x331-798.tfrec\n",
      "/kaggle/input/tpu-getting-started/tfrecords-jpeg-331x331/train/10-331x331-798.tfrec\n",
      "/kaggle/input/tpu-getting-started/tfrecords-jpeg-331x331/train/01-331x331-798.tfrec\n",
      "/kaggle/input/tpu-getting-started/tfrecords-jpeg-331x331/train/13-331x331-798.tfrec\n",
      "/kaggle/input/tpu-getting-started/tfrecords-jpeg-331x331/train/11-331x331-798.tfrec\n",
      "/kaggle/input/tpu-getting-started/tfrecords-jpeg-192x192/val/05-192x192-232.tfrec\n",
      "/kaggle/input/tpu-getting-started/tfrecords-jpeg-192x192/val/07-192x192-232.tfrec\n",
      "/kaggle/input/tpu-getting-started/tfrecords-jpeg-192x192/val/15-192x192-232.tfrec\n",
      "/kaggle/input/tpu-getting-started/tfrecords-jpeg-192x192/val/08-192x192-232.tfrec\n",
      "/kaggle/input/tpu-getting-started/tfrecords-jpeg-192x192/val/06-192x192-232.tfrec\n",
      "/kaggle/input/tpu-getting-started/tfrecords-jpeg-192x192/val/00-192x192-232.tfrec\n",
      "/kaggle/input/tpu-getting-started/tfrecords-jpeg-192x192/val/11-192x192-232.tfrec\n",
      "/kaggle/input/tpu-getting-started/tfrecords-jpeg-192x192/val/04-192x192-232.tfrec\n",
      "/kaggle/input/tpu-getting-started/tfrecords-jpeg-192x192/val/09-192x192-232.tfrec\n",
      "/kaggle/input/tpu-getting-started/tfrecords-jpeg-192x192/val/02-192x192-232.tfrec\n",
      "/kaggle/input/tpu-getting-started/tfrecords-jpeg-192x192/val/10-192x192-232.tfrec\n",
      "/kaggle/input/tpu-getting-started/tfrecords-jpeg-192x192/val/12-192x192-232.tfrec\n",
      "/kaggle/input/tpu-getting-started/tfrecords-jpeg-192x192/val/14-192x192-232.tfrec\n",
      "/kaggle/input/tpu-getting-started/tfrecords-jpeg-192x192/val/13-192x192-232.tfrec\n",
      "/kaggle/input/tpu-getting-started/tfrecords-jpeg-192x192/val/03-192x192-232.tfrec\n",
      "/kaggle/input/tpu-getting-started/tfrecords-jpeg-192x192/val/01-192x192-232.tfrec\n",
      "/kaggle/input/tpu-getting-started/tfrecords-jpeg-192x192/test/06-192x192-462.tfrec\n",
      "/kaggle/input/tpu-getting-started/tfrecords-jpeg-192x192/test/12-192x192-462.tfrec\n",
      "/kaggle/input/tpu-getting-started/tfrecords-jpeg-192x192/test/08-192x192-462.tfrec\n",
      "/kaggle/input/tpu-getting-started/tfrecords-jpeg-192x192/test/07-192x192-462.tfrec\n",
      "/kaggle/input/tpu-getting-started/tfrecords-jpeg-192x192/test/00-192x192-462.tfrec\n",
      "/kaggle/input/tpu-getting-started/tfrecords-jpeg-192x192/test/03-192x192-462.tfrec\n",
      "/kaggle/input/tpu-getting-started/tfrecords-jpeg-192x192/test/13-192x192-462.tfrec\n",
      "/kaggle/input/tpu-getting-started/tfrecords-jpeg-192x192/test/05-192x192-462.tfrec\n",
      "/kaggle/input/tpu-getting-started/tfrecords-jpeg-192x192/test/01-192x192-462.tfrec\n",
      "/kaggle/input/tpu-getting-started/tfrecords-jpeg-192x192/test/14-192x192-462.tfrec\n",
      "/kaggle/input/tpu-getting-started/tfrecords-jpeg-192x192/test/10-192x192-462.tfrec\n",
      "/kaggle/input/tpu-getting-started/tfrecords-jpeg-192x192/test/04-192x192-462.tfrec\n",
      "/kaggle/input/tpu-getting-started/tfrecords-jpeg-192x192/test/15-192x192-452.tfrec\n",
      "/kaggle/input/tpu-getting-started/tfrecords-jpeg-192x192/test/09-192x192-462.tfrec\n",
      "/kaggle/input/tpu-getting-started/tfrecords-jpeg-192x192/test/11-192x192-462.tfrec\n",
      "/kaggle/input/tpu-getting-started/tfrecords-jpeg-192x192/test/02-192x192-462.tfrec\n",
      "/kaggle/input/tpu-getting-started/tfrecords-jpeg-192x192/train/06-192x192-798.tfrec\n",
      "/kaggle/input/tpu-getting-started/tfrecords-jpeg-192x192/train/11-192x192-798.tfrec\n",
      "/kaggle/input/tpu-getting-started/tfrecords-jpeg-192x192/train/12-192x192-798.tfrec\n",
      "/kaggle/input/tpu-getting-started/tfrecords-jpeg-192x192/train/03-192x192-798.tfrec\n",
      "/kaggle/input/tpu-getting-started/tfrecords-jpeg-192x192/train/09-192x192-798.tfrec\n",
      "/kaggle/input/tpu-getting-started/tfrecords-jpeg-192x192/train/08-192x192-798.tfrec\n",
      "/kaggle/input/tpu-getting-started/tfrecords-jpeg-192x192/train/04-192x192-798.tfrec\n",
      "/kaggle/input/tpu-getting-started/tfrecords-jpeg-192x192/train/05-192x192-798.tfrec\n",
      "/kaggle/input/tpu-getting-started/tfrecords-jpeg-192x192/train/14-192x192-798.tfrec\n",
      "/kaggle/input/tpu-getting-started/tfrecords-jpeg-192x192/train/07-192x192-798.tfrec\n",
      "/kaggle/input/tpu-getting-started/tfrecords-jpeg-192x192/train/13-192x192-798.tfrec\n",
      "/kaggle/input/tpu-getting-started/tfrecords-jpeg-192x192/train/15-192x192-783.tfrec\n",
      "/kaggle/input/tpu-getting-started/tfrecords-jpeg-192x192/train/02-192x192-798.tfrec\n",
      "/kaggle/input/tpu-getting-started/tfrecords-jpeg-192x192/train/10-192x192-798.tfrec\n",
      "/kaggle/input/tpu-getting-started/tfrecords-jpeg-192x192/train/01-192x192-798.tfrec\n",
      "/kaggle/input/tpu-getting-started/tfrecords-jpeg-192x192/train/00-192x192-798.tfrec\n",
      "/kaggle/input/tpu-getting-started/tfrecords-jpeg-512x512/val/02-512x512-232.tfrec\n",
      "/kaggle/input/tpu-getting-started/tfrecords-jpeg-512x512/val/12-512x512-232.tfrec\n",
      "/kaggle/input/tpu-getting-started/tfrecords-jpeg-512x512/val/09-512x512-232.tfrec\n",
      "/kaggle/input/tpu-getting-started/tfrecords-jpeg-512x512/val/00-512x512-232.tfrec\n",
      "/kaggle/input/tpu-getting-started/tfrecords-jpeg-512x512/val/13-512x512-232.tfrec\n",
      "/kaggle/input/tpu-getting-started/tfrecords-jpeg-512x512/val/03-512x512-232.tfrec\n",
      "/kaggle/input/tpu-getting-started/tfrecords-jpeg-512x512/val/14-512x512-232.tfrec\n",
      "/kaggle/input/tpu-getting-started/tfrecords-jpeg-512x512/val/04-512x512-232.tfrec\n",
      "/kaggle/input/tpu-getting-started/tfrecords-jpeg-512x512/val/10-512x512-232.tfrec\n",
      "/kaggle/input/tpu-getting-started/tfrecords-jpeg-512x512/val/05-512x512-232.tfrec\n",
      "/kaggle/input/tpu-getting-started/tfrecords-jpeg-512x512/val/08-512x512-232.tfrec\n",
      "/kaggle/input/tpu-getting-started/tfrecords-jpeg-512x512/val/11-512x512-232.tfrec\n",
      "/kaggle/input/tpu-getting-started/tfrecords-jpeg-512x512/val/07-512x512-232.tfrec\n",
      "/kaggle/input/tpu-getting-started/tfrecords-jpeg-512x512/val/15-512x512-232.tfrec\n",
      "/kaggle/input/tpu-getting-started/tfrecords-jpeg-512x512/val/01-512x512-232.tfrec\n",
      "/kaggle/input/tpu-getting-started/tfrecords-jpeg-512x512/val/06-512x512-232.tfrec\n",
      "/kaggle/input/tpu-getting-started/tfrecords-jpeg-512x512/test/15-512x512-452.tfrec\n",
      "/kaggle/input/tpu-getting-started/tfrecords-jpeg-512x512/test/02-512x512-462.tfrec\n",
      "/kaggle/input/tpu-getting-started/tfrecords-jpeg-512x512/test/03-512x512-462.tfrec\n",
      "/kaggle/input/tpu-getting-started/tfrecords-jpeg-512x512/test/01-512x512-462.tfrec\n",
      "/kaggle/input/tpu-getting-started/tfrecords-jpeg-512x512/test/00-512x512-462.tfrec\n",
      "/kaggle/input/tpu-getting-started/tfrecords-jpeg-512x512/test/13-512x512-462.tfrec\n",
      "/kaggle/input/tpu-getting-started/tfrecords-jpeg-512x512/test/07-512x512-462.tfrec\n",
      "/kaggle/input/tpu-getting-started/tfrecords-jpeg-512x512/test/10-512x512-462.tfrec\n",
      "/kaggle/input/tpu-getting-started/tfrecords-jpeg-512x512/test/04-512x512-462.tfrec\n",
      "/kaggle/input/tpu-getting-started/tfrecords-jpeg-512x512/test/14-512x512-462.tfrec\n",
      "/kaggle/input/tpu-getting-started/tfrecords-jpeg-512x512/test/09-512x512-462.tfrec\n",
      "/kaggle/input/tpu-getting-started/tfrecords-jpeg-512x512/test/08-512x512-462.tfrec\n",
      "/kaggle/input/tpu-getting-started/tfrecords-jpeg-512x512/test/11-512x512-462.tfrec\n",
      "/kaggle/input/tpu-getting-started/tfrecords-jpeg-512x512/test/05-512x512-462.tfrec\n",
      "/kaggle/input/tpu-getting-started/tfrecords-jpeg-512x512/test/06-512x512-462.tfrec\n",
      "/kaggle/input/tpu-getting-started/tfrecords-jpeg-512x512/test/12-512x512-462.tfrec\n",
      "/kaggle/input/tpu-getting-started/tfrecords-jpeg-512x512/train/05-512x512-798.tfrec\n",
      "/kaggle/input/tpu-getting-started/tfrecords-jpeg-512x512/train/00-512x512-798.tfrec\n",
      "/kaggle/input/tpu-getting-started/tfrecords-jpeg-512x512/train/11-512x512-798.tfrec\n",
      "/kaggle/input/tpu-getting-started/tfrecords-jpeg-512x512/train/15-512x512-783.tfrec\n",
      "/kaggle/input/tpu-getting-started/tfrecords-jpeg-512x512/train/10-512x512-798.tfrec\n",
      "/kaggle/input/tpu-getting-started/tfrecords-jpeg-512x512/train/12-512x512-798.tfrec\n",
      "/kaggle/input/tpu-getting-started/tfrecords-jpeg-512x512/train/01-512x512-798.tfrec\n",
      "/kaggle/input/tpu-getting-started/tfrecords-jpeg-512x512/train/14-512x512-798.tfrec\n",
      "/kaggle/input/tpu-getting-started/tfrecords-jpeg-512x512/train/13-512x512-798.tfrec\n",
      "/kaggle/input/tpu-getting-started/tfrecords-jpeg-512x512/train/07-512x512-798.tfrec\n",
      "/kaggle/input/tpu-getting-started/tfrecords-jpeg-512x512/train/03-512x512-798.tfrec\n",
      "/kaggle/input/tpu-getting-started/tfrecords-jpeg-512x512/train/06-512x512-798.tfrec\n",
      "/kaggle/input/tpu-getting-started/tfrecords-jpeg-512x512/train/08-512x512-798.tfrec\n",
      "/kaggle/input/tpu-getting-started/tfrecords-jpeg-512x512/train/02-512x512-798.tfrec\n",
      "/kaggle/input/tpu-getting-started/tfrecords-jpeg-512x512/train/09-512x512-798.tfrec\n",
      "/kaggle/input/tpu-getting-started/tfrecords-jpeg-512x512/train/04-512x512-798.tfrec\n"
     ]
    }
   ],
   "source": [
    "# This Python 3 environment comes with many helpful analytics libraries installed\n",
    "# It is defined by the kaggle/python Docker image: https://github.com/kaggle/docker-python\n",
    "# For example, here's several helpful packages to load\n",
    "\n",
    "import numpy as np # linear algebra\n",
    "import pandas as pd # data processing, CSV file I/O (e.g. pd.read_csv)\n",
    "\n",
    "# Input data files are available in the read-only \"../input/\" directory\n",
    "# For example, running this (by clicking run or pressing Shift+Enter) will list all files under the input directory\n",
    "\n",
    "import os\n",
    "for dirname, _, filenames in os.walk('/kaggle/input'):\n",
    "    for filename in filenames:\n",
    "        print(os.path.join(dirname, filename))\n",
    "\n",
    "# You can write up to 20GB to the current directory (/kaggle/working/) that gets preserved as output when you create a version using \"Save & Run All\" \n",
    "# You can also write temporary files to /kaggle/temp/, but they won't be saved outside of the current session"
   ]
  },
  {
   "cell_type": "code",
   "execution_count": 2,
   "id": "462a8c4d",
   "metadata": {
    "execution": {
     "iopub.execute_input": "2022-09-21T05:03:33.165831Z",
     "iopub.status.busy": "2022-09-21T05:03:33.165059Z",
     "iopub.status.idle": "2022-09-21T05:03:37.634926Z",
     "shell.execute_reply": "2022-09-21T05:03:37.633952Z"
    },
    "papermill": {
     "duration": 4.477386,
     "end_time": "2022-09-21T05:03:37.637732",
     "exception": false,
     "start_time": "2022-09-21T05:03:33.160346",
     "status": "completed"
    },
    "tags": []
   },
   "outputs": [],
   "source": [
    "import tensorflow as tf\n",
    "import numpy as np\n",
    "import os\n",
    "import glob\n",
    "import warnings\n",
    "\n",
    "warnings.filterwarnings('ignore')\n",
    "ROOT_DIR = '/kaggle/input/tpu-getting-started'"
   ]
  },
  {
   "cell_type": "code",
   "execution_count": 3,
   "id": "1cd1db5e",
   "metadata": {
    "execution": {
     "iopub.execute_input": "2022-09-21T05:03:37.649917Z",
     "iopub.status.busy": "2022-09-21T05:03:37.649407Z",
     "iopub.status.idle": "2022-09-21T05:03:37.657960Z",
     "shell.execute_reply": "2022-09-21T05:03:37.656817Z"
    },
    "papermill": {
     "duration": 0.016317,
     "end_time": "2022-09-21T05:03:37.660008",
     "exception": false,
     "start_time": "2022-09-21T05:03:37.643691",
     "status": "completed"
    },
    "tags": []
   },
   "outputs": [],
   "source": [
    "CLASSES = ['pink primrose',    'hard-leaved pocket orchid', 'canterbury bells', 'sweet pea',     'wild geranium',     'tiger lily',           'moon orchid',              'bird of paradise', 'monkshood',        'globe thistle',         # 00 - 09\n",
    "           'snapdragon',       \"colt's foot\",               'king protea',      'spear thistle', 'yellow iris',       'globe-flower',         'purple coneflower',        'peruvian lily',    'balloon flower',   'giant white arum lily', # 10 - 19\n",
    "           'fire lily',        'pincushion flower',         'fritillary',       'red ginger',    'grape hyacinth',    'corn poppy',           'prince of wales feathers', 'stemless gentian', 'artichoke',        'sweet william',         # 20 - 29\n",
    "           'carnation',        'garden phlox',              'love in the mist', 'cosmos',        'alpine sea holly',  'ruby-lipped cattleya', 'cape flower',              'great masterwort', 'siam tulip',       'lenten rose',           # 30 - 39\n",
    "           'barberton daisy',  'daffodil',                  'sword lily',       'poinsettia',    'bolero deep blue',  'wallflower',           'marigold',                 'buttercup',        'daisy',            'common dandelion',      # 40 - 49\n",
    "           'petunia',          'wild pansy',                'primula',          'sunflower',     'lilac hibiscus',    'bishop of llandaff',   'gaura',                    'geranium',         'orange dahlia',    'pink-yellow dahlia',    # 50 - 59\n",
    "           'cautleya spicata', 'japanese anemone',          'black-eyed susan', 'silverbush',    'californian poppy', 'osteospermum',         'spring crocus',            'iris',             'windflower',       'tree poppy',            # 60 - 69\n",
    "           'gazania',          'azalea',                    'water lily',       'rose',          'thorn apple',       'morning glory',        'passion flower',           'lotus',            'toad lily',        'anthurium',             # 70 - 79\n",
    "           'frangipani',       'clematis',                  'hibiscus',         'columbine',     'desert-rose',       'tree mallow',          'magnolia',                 'cyclamen ',        'watercress',       'canna lily',            # 80 - 89\n",
    "           'hippeastrum ',     'bee balm',                  'pink quill',       'foxglove',      'bougainvillea',     'camellia',             'mallow',                   'mexican petunia',  'bromelia',         'blanket flower',        # 90 - 99\n",
    "           'trumpet creeper',  'blackberry lily',           'common tulip',     'wild rose'] "
   ]
  },
  {
   "cell_type": "code",
   "execution_count": 4,
   "id": "34b2b078",
   "metadata": {
    "execution": {
     "iopub.execute_input": "2022-09-21T05:03:37.669476Z",
     "iopub.status.busy": "2022-09-21T05:03:37.668655Z",
     "iopub.status.idle": "2022-09-21T05:03:37.676944Z",
     "shell.execute_reply": "2022-09-21T05:03:37.676048Z"
    },
    "papermill": {
     "duration": 0.015252,
     "end_time": "2022-09-21T05:03:37.679079",
     "exception": false,
     "start_time": "2022-09-21T05:03:37.663827",
     "status": "completed"
    },
    "tags": []
   },
   "outputs": [],
   "source": [
    "TRAIN_DIRS = glob.glob(str(ROOT_DIR + '/*-jpeg-224*/train/*'))\n",
    "VAL_DIRS = glob.glob(str(ROOT_DIR + '/*-jpeg-224*/val/*'))\n",
    "TEST_DIRS = glob.glob(str(ROOT_DIR + '/*-jpeg-224*/test/*'))"
   ]
  },
  {
   "cell_type": "code",
   "execution_count": 5,
   "id": "f3f83449",
   "metadata": {
    "execution": {
     "iopub.execute_input": "2022-09-21T05:03:37.688261Z",
     "iopub.status.busy": "2022-09-21T05:03:37.688012Z",
     "iopub.status.idle": "2022-09-21T05:03:53.225673Z",
     "shell.execute_reply": "2022-09-21T05:03:53.224767Z"
    },
    "papermill": {
     "duration": 15.545201,
     "end_time": "2022-09-21T05:03:53.228074",
     "exception": false,
     "start_time": "2022-09-21T05:03:37.682873",
     "status": "completed"
    },
    "tags": []
   },
   "outputs": [
    {
     "name": "stderr",
     "output_type": "stream",
     "text": [
      "2022-09-21 05:03:37.754991: I tensorflow/stream_executor/cuda/cuda_gpu_executor.cc:937] successful NUMA node read from SysFS had negative value (-1), but there must be at least one NUMA node, so returning NUMA node zero\n",
      "2022-09-21 05:03:37.850872: I tensorflow/stream_executor/cuda/cuda_gpu_executor.cc:937] successful NUMA node read from SysFS had negative value (-1), but there must be at least one NUMA node, so returning NUMA node zero\n",
      "2022-09-21 05:03:37.851659: I tensorflow/stream_executor/cuda/cuda_gpu_executor.cc:937] successful NUMA node read from SysFS had negative value (-1), but there must be at least one NUMA node, so returning NUMA node zero\n",
      "2022-09-21 05:03:37.854501: I tensorflow/core/platform/cpu_feature_guard.cc:142] This TensorFlow binary is optimized with oneAPI Deep Neural Network Library (oneDNN) to use the following CPU instructions in performance-critical operations:  AVX2 AVX512F FMA\n",
      "To enable them in other operations, rebuild TensorFlow with the appropriate compiler flags.\n",
      "2022-09-21 05:03:37.855056: I tensorflow/stream_executor/cuda/cuda_gpu_executor.cc:937] successful NUMA node read from SysFS had negative value (-1), but there must be at least one NUMA node, so returning NUMA node zero\n",
      "2022-09-21 05:03:37.856130: I tensorflow/stream_executor/cuda/cuda_gpu_executor.cc:937] successful NUMA node read from SysFS had negative value (-1), but there must be at least one NUMA node, so returning NUMA node zero\n",
      "2022-09-21 05:03:37.857161: I tensorflow/stream_executor/cuda/cuda_gpu_executor.cc:937] successful NUMA node read from SysFS had negative value (-1), but there must be at least one NUMA node, so returning NUMA node zero\n",
      "2022-09-21 05:03:40.101450: I tensorflow/stream_executor/cuda/cuda_gpu_executor.cc:937] successful NUMA node read from SysFS had negative value (-1), but there must be at least one NUMA node, so returning NUMA node zero\n",
      "2022-09-21 05:03:40.102270: I tensorflow/stream_executor/cuda/cuda_gpu_executor.cc:937] successful NUMA node read from SysFS had negative value (-1), but there must be at least one NUMA node, so returning NUMA node zero\n",
      "2022-09-21 05:03:40.102892: I tensorflow/stream_executor/cuda/cuda_gpu_executor.cc:937] successful NUMA node read from SysFS had negative value (-1), but there must be at least one NUMA node, so returning NUMA node zero\n",
      "2022-09-21 05:03:40.103485: I tensorflow/core/common_runtime/gpu/gpu_device.cc:1510] Created device /job:localhost/replica:0/task:0/device:GPU:0 with 15401 MB memory:  -> device: 0, name: Tesla P100-PCIE-16GB, pci bus id: 0000:00:04.0, compute capability: 6.0\n",
      "2022-09-21 05:03:40.527825: I tensorflow/compiler/mlir/mlir_graph_optimization_pass.cc:185] None of the MLIR Optimization Passes are enabled (registered 2)\n"
     ]
    },
    {
     "data": {
      "text/plain": [
       "(12753, 3712, 7382)"
      ]
     },
     "execution_count": 5,
     "metadata": {},
     "output_type": "execute_result"
    }
   ],
   "source": [
    "TRAIN_LEN = sum(1 for _ in tf.data.TFRecordDataset(TRAIN_DIRS, num_parallel_reads=tf.data.AUTOTUNE))\n",
    "VAL_LEN = sum(1 for _ in tf.data.TFRecordDataset(VAL_DIRS, num_parallel_reads=tf.data.AUTOTUNE))\n",
    "TEST_LEN = sum(1 for _ in tf.data.TFRecordDataset(TEST_DIRS, num_parallel_reads=tf.data.AUTOTUNE))\n",
    "TRAIN_LEN, VAL_LEN, TEST_LEN"
   ]
  },
  {
   "cell_type": "code",
   "execution_count": 6,
   "id": "2e972168",
   "metadata": {
    "execution": {
     "iopub.execute_input": "2022-09-21T05:03:53.238109Z",
     "iopub.status.busy": "2022-09-21T05:03:53.237750Z",
     "iopub.status.idle": "2022-09-21T05:03:53.251558Z",
     "shell.execute_reply": "2022-09-21T05:03:53.250663Z"
    },
    "papermill": {
     "duration": 0.020987,
     "end_time": "2022-09-21T05:03:53.253527",
     "exception": false,
     "start_time": "2022-09-21T05:03:53.232540",
     "status": "completed"
    },
    "tags": []
   },
   "outputs": [],
   "source": [
    "IMAGE_SHAPE = (224, 224, 3)\n",
    "\n",
    "def augment(image, label):\n",
    "    image = tf.image.random_brightness(image, max_delta=0.2)\n",
    "    image = tf.image.random_contrast(image, lower=0.3, upper=1.7)\n",
    "    image = tf.image.random_hue(image, max_delta=0.05)\n",
    "    image = tf.image.random_saturation(image, 0.7, 1.3)\n",
    "    image = tf.image.random_flip_left_right(image)\n",
    "    image = tf.image.random_flip_up_down(image)\n",
    "    return image, label\n",
    "\n",
    "def train_tfrecord(example):\n",
    "    TFREC_FORMAT = {\n",
    "        'image': tf.io.FixedLenFeature([], tf.string), \n",
    "        'class': tf.io.FixedLenFeature([], tf.int64)\n",
    "    }\n",
    "    example = tf.io.parse_single_example(example, TFREC_FORMAT)\n",
    "    image = tf.image.decode_jpeg(example['image'], channels=3)\n",
    "    image = tf.reshape(image, IMAGE_SHAPE)\n",
    "    image = tf.cast(image, tf.float32) / 255.0\n",
    "    label = tf.cast(example['class'], tf.int32)\n",
    "    label = tf.one_hot(label, depth=len(CLASSES))\n",
    "    return image, label\n",
    "\n",
    "def test_tfrecord(example):\n",
    "    TFREC_FORMAT = {\n",
    "        'image': tf.io.FixedLenFeature([], tf.string), \n",
    "        'id': tf.io.FixedLenFeature([], tf.string)\n",
    "    }\n",
    "    example = tf.io.parse_single_example(example, TFREC_FORMAT)\n",
    "    image = tf.image.decode_jpeg(example['image'], channels=3)\n",
    "    image = tf.reshape(image, IMAGE_SHAPE)\n",
    "    image = tf.cast(image, tf.float32) / 255.0\n",
    "    idn = example['id']\n",
    "    return image, idn\n",
    "\n",
    "def load_dataset(dirs, train=True, label=True, batch_size=32):\n",
    "    dataset = tf.data.TFRecordDataset(dirs, num_parallel_reads=tf.data.AUTOTUNE)\n",
    "    options = tf.data.Options()\n",
    "    options.experimental_deterministic = False if train else True\n",
    "    dataset = dataset.with_options(options)\n",
    "    dataset = dataset.map(train_tfrecord if label else test_tfrecord, \n",
    "                          num_parallel_calls=tf.data.AUTOTUNE)\n",
    "    if train:\n",
    "        dataset = dataset.map(augment, num_parallel_calls=tf.data.AUTOTUNE)\n",
    "        dataset = dataset.repeat().shuffle(2048)\n",
    "    dataset = dataset.batch(batch_size)\n",
    "    dataset = dataset.prefetch(tf.data.AUTOTUNE)\n",
    "    return dataset"
   ]
  },
  {
   "cell_type": "code",
   "execution_count": 7,
   "id": "c1e3d1d5",
   "metadata": {
    "execution": {
     "iopub.execute_input": "2022-09-21T05:03:53.263201Z",
     "iopub.status.busy": "2022-09-21T05:03:53.262889Z",
     "iopub.status.idle": "2022-09-21T05:03:53.573563Z",
     "shell.execute_reply": "2022-09-21T05:03:53.572509Z"
    },
    "papermill": {
     "duration": 0.319222,
     "end_time": "2022-09-21T05:03:53.576835",
     "exception": false,
     "start_time": "2022-09-21T05:03:53.257613",
     "status": "completed"
    },
    "tags": []
   },
   "outputs": [
    {
     "name": "stdout",
     "output_type": "stream",
     "text": [
      "<PrefetchDataset shapes: ((None, 224, 224, 3), (None, 104)), types: (tf.float32, tf.float32)>\n",
      "<PrefetchDataset shapes: ((None, 224, 224, 3), (None, 104)), types: (tf.float32, tf.float32)>\n",
      "<PrefetchDataset shapes: ((None, 224, 224, 3), (None,)), types: (tf.float32, tf.string)>\n"
     ]
    }
   ],
   "source": [
    "BATCH_SIZE = 16\n",
    "train_dataset = load_dataset(TRAIN_DIRS, train=True, label=True, batch_size=BATCH_SIZE)\n",
    "val_dataset = load_dataset(VAL_DIRS, train=False, label=True, batch_size=BATCH_SIZE)\n",
    "test_dataset = load_dataset(TEST_DIRS, train=False, label=False, batch_size=BATCH_SIZE)\n",
    "\n",
    "print(train_dataset)\n",
    "print(val_dataset)\n",
    "print(test_dataset)"
   ]
  },
  {
   "cell_type": "code",
   "execution_count": 8,
   "id": "337358e0",
   "metadata": {
    "execution": {
     "iopub.execute_input": "2022-09-21T05:03:53.587777Z",
     "iopub.status.busy": "2022-09-21T05:03:53.587473Z",
     "iopub.status.idle": "2022-09-21T05:03:55.469579Z",
     "shell.execute_reply": "2022-09-21T05:03:55.468535Z"
    },
    "papermill": {
     "duration": 1.890092,
     "end_time": "2022-09-21T05:03:55.472179",
     "exception": false,
     "start_time": "2022-09-21T05:03:53.582087",
     "status": "completed"
    },
    "tags": []
   },
   "outputs": [
    {
     "name": "stdout",
     "output_type": "stream",
     "text": [
      "Downloading data from https://storage.googleapis.com/tensorflow/keras-applications/vgg16/vgg16_weights_tf_dim_ordering_tf_kernels_notop.h5\n",
      "58892288/58889256 [==============================] - 1s 0us/step\n",
      "58900480/58889256 [==============================] - 1s 0us/step\n"
     ]
    }
   ],
   "source": [
    "pretrained_model = tf.keras.applications.VGG16(\n",
    "        weights='imagenet',\n",
    "        include_top=False ,\n",
    "        input_shape=[224, 224, 3]\n",
    "    )\n",
    "pretrained_model.trainable = False\n",
    "    \n",
    "model = tf.keras.Sequential([\n",
    "    # To a base pretrained on ImageNet to extract features from images...\n",
    "    pretrained_model,\n",
    "    # ... attach a new head to act as a classifier.\n",
    "    tf.keras.layers.GlobalAveragePooling2D(),\n",
    "    tf.keras.layers.Dense(len(CLASSES))\n",
    "])"
   ]
  },
  {
   "cell_type": "code",
   "execution_count": 9,
   "id": "c2fd2369",
   "metadata": {
    "execution": {
     "iopub.execute_input": "2022-09-21T05:03:55.484489Z",
     "iopub.status.busy": "2022-09-21T05:03:55.483580Z",
     "iopub.status.idle": "2022-09-21T05:03:55.616546Z",
     "shell.execute_reply": "2022-09-21T05:03:55.615514Z"
    },
    "papermill": {
     "duration": 0.142004,
     "end_time": "2022-09-21T05:03:55.619395",
     "exception": false,
     "start_time": "2022-09-21T05:03:55.477391",
     "status": "completed"
    },
    "tags": []
   },
   "outputs": [
    {
     "name": "stdout",
     "output_type": "stream",
     "text": [
      "Model: \"sequential\"\n",
      "_________________________________________________________________\n",
      "Layer (type)                 Output Shape              Param #   \n",
      "=================================================================\n",
      "vgg16 (Functional)           (None, 7, 7, 512)         14714688  \n",
      "_________________________________________________________________\n",
      "global_average_pooling2d (Gl (None, 512)               0         \n",
      "_________________________________________________________________\n",
      "dense (Dense)                (None, 104)               53352     \n",
      "=================================================================\n",
      "Total params: 14,768,040\n",
      "Trainable params: 53,352\n",
      "Non-trainable params: 14,714,688\n",
      "_________________________________________________________________\n"
     ]
    }
   ],
   "source": [
    "import tensorflow_addons as tfa\n",
    "model.compile(optimizer='adam', \n",
    "             loss=tf.keras.losses.CategoricalCrossentropy(from_logits=True), \n",
    "             metrics=['accuracy', tfa.metrics.F1Score(num_classes=len(CLASSES), average='macro')])\n",
    "model.summary()"
   ]
  },
  {
   "cell_type": "code",
   "execution_count": 10,
   "id": "eddd2acc",
   "metadata": {
    "execution": {
     "iopub.execute_input": "2022-09-21T05:03:55.632052Z",
     "iopub.status.busy": "2022-09-21T05:03:55.631171Z",
     "iopub.status.idle": "2022-09-21T06:24:13.137089Z",
     "shell.execute_reply": "2022-09-21T06:24:13.136045Z"
    },
    "papermill": {
     "duration": 4824.856348,
     "end_time": "2022-09-21T06:24:20.481360",
     "exception": false,
     "start_time": "2022-09-21T05:03:55.625012",
     "status": "completed"
    },
    "tags": []
   },
   "outputs": [
    {
     "name": "stdout",
     "output_type": "stream",
     "text": [
      "Epoch 1/200\n"
     ]
    },
    {
     "name": "stderr",
     "output_type": "stream",
     "text": [
      "2022-09-21 05:04:03.033681: I tensorflow/stream_executor/cuda/cuda_dnn.cc:369] Loaded cuDNN version 8005\n"
     ]
    },
    {
     "name": "stdout",
     "output_type": "stream",
     "text": [
      "797/797 [==============================] - 57s 54ms/step - loss: 3.6657 - accuracy: 0.1775 - f1_score: 0.0370 - val_loss: 3.1673 - val_accuracy: 0.2616 - val_f1_score: 0.0801\n",
      "Epoch 2/200\n",
      "797/797 [==============================] - 40s 50ms/step - loss: 3.0255 - accuracy: 0.2981 - f1_score: 0.1277 - val_loss: 2.7316 - val_accuracy: 0.3726 - val_f1_score: 0.1911\n",
      "Epoch 3/200\n",
      "797/797 [==============================] - 39s 48ms/step - loss: 2.7109 - accuracy: 0.3658 - f1_score: 0.2135 - val_loss: 2.4604 - val_accuracy: 0.4472 - val_f1_score: 0.2816\n",
      "Epoch 4/200\n",
      "797/797 [==============================] - 39s 49ms/step - loss: 2.4883 - accuracy: 0.4191 - f1_score: 0.2746 - val_loss: 2.2923 - val_accuracy: 0.4547 - val_f1_score: 0.3117\n",
      "Epoch 5/200\n",
      "797/797 [==============================] - 39s 48ms/step - loss: 2.3435 - accuracy: 0.4480 - f1_score: 0.3305 - val_loss: 2.1516 - val_accuracy: 0.4887 - val_f1_score: 0.3632\n",
      "Epoch 6/200\n",
      "797/797 [==============================] - 39s 49ms/step - loss: 2.2338 - accuracy: 0.4691 - f1_score: 0.3708 - val_loss: 2.0367 - val_accuracy: 0.5135 - val_f1_score: 0.3907\n",
      "Epoch 7/200\n",
      "797/797 [==============================] - 39s 49ms/step - loss: 2.1205 - accuracy: 0.4949 - f1_score: 0.4053 - val_loss: 1.9604 - val_accuracy: 0.5401 - val_f1_score: 0.4382\n",
      "Epoch 8/200\n",
      "797/797 [==============================] - 36s 45ms/step - loss: 2.0417 - accuracy: 0.5071 - f1_score: 0.4286 - val_loss: 1.8843 - val_accuracy: 0.5625 - val_f1_score: 0.4911\n",
      "Epoch 9/200\n",
      "797/797 [==============================] - 37s 46ms/step - loss: 1.9889 - accuracy: 0.5176 - f1_score: 0.4443 - val_loss: 1.8393 - val_accuracy: 0.5628 - val_f1_score: 0.4912\n",
      "Epoch 10/200\n",
      "797/797 [==============================] - 37s 46ms/step - loss: 1.9114 - accuracy: 0.5393 - f1_score: 0.4864 - val_loss: 1.7735 - val_accuracy: 0.5800 - val_f1_score: 0.5058\n",
      "Epoch 11/200\n",
      "797/797 [==============================] - 36s 46ms/step - loss: 1.8701 - accuracy: 0.5428 - f1_score: 0.4960 - val_loss: 1.7422 - val_accuracy: 0.5849 - val_f1_score: 0.5291\n",
      "Epoch 12/200\n",
      "797/797 [==============================] - 36s 45ms/step - loss: 1.8289 - accuracy: 0.5572 - f1_score: 0.5228 - val_loss: 1.6858 - val_accuracy: 0.5943 - val_f1_score: 0.5394\n",
      "Epoch 13/200\n",
      "797/797 [==============================] - 36s 46ms/step - loss: 1.7774 - accuracy: 0.5661 - f1_score: 0.5256 - val_loss: 1.6506 - val_accuracy: 0.6067 - val_f1_score: 0.5564\n",
      "Epoch 14/200\n",
      "797/797 [==============================] - 36s 46ms/step - loss: 1.7521 - accuracy: 0.5696 - f1_score: 0.5374 - val_loss: 1.6265 - val_accuracy: 0.6169 - val_f1_score: 0.5798\n",
      "Epoch 15/200\n",
      "797/797 [==============================] - 36s 45ms/step - loss: 1.7167 - accuracy: 0.5771 - f1_score: 0.5498 - val_loss: 1.5997 - val_accuracy: 0.6172 - val_f1_score: 0.5862\n",
      "Epoch 16/200\n",
      "797/797 [==============================] - 36s 45ms/step - loss: 1.6760 - accuracy: 0.5886 - f1_score: 0.5605 - val_loss: 1.5703 - val_accuracy: 0.6242 - val_f1_score: 0.5937\n",
      "Epoch 17/200\n",
      "797/797 [==============================] - 36s 45ms/step - loss: 1.6565 - accuracy: 0.5891 - f1_score: 0.5711 - val_loss: 1.5437 - val_accuracy: 0.6344 - val_f1_score: 0.6145\n",
      "Epoch 18/200\n",
      "797/797 [==============================] - 36s 46ms/step - loss: 1.6217 - accuracy: 0.5990 - f1_score: 0.5808 - val_loss: 1.5316 - val_accuracy: 0.6312 - val_f1_score: 0.6026\n",
      "Epoch 19/200\n",
      "797/797 [==============================] - 36s 45ms/step - loss: 1.6069 - accuracy: 0.6038 - f1_score: 0.5891 - val_loss: 1.5126 - val_accuracy: 0.6296 - val_f1_score: 0.6034\n",
      "Epoch 20/200\n",
      "797/797 [==============================] - 36s 46ms/step - loss: 1.5847 - accuracy: 0.6071 - f1_score: 0.6017 - val_loss: 1.5022 - val_accuracy: 0.6315 - val_f1_score: 0.6087\n",
      "Epoch 21/200\n",
      "797/797 [==============================] - 36s 46ms/step - loss: 1.5656 - accuracy: 0.6087 - f1_score: 0.6005 - val_loss: 1.4799 - val_accuracy: 0.6406 - val_f1_score: 0.6206\n",
      "Epoch 22/200\n",
      "797/797 [==============================] - 36s 45ms/step - loss: 1.5353 - accuracy: 0.6181 - f1_score: 0.6064 - val_loss: 1.4658 - val_accuracy: 0.6387 - val_f1_score: 0.6126\n",
      "Epoch 23/200\n",
      "797/797 [==============================] - 36s 45ms/step - loss: 1.5231 - accuracy: 0.6191 - f1_score: 0.6114 - val_loss: 1.4506 - val_accuracy: 0.6463 - val_f1_score: 0.6131\n",
      "Epoch 24/200\n",
      "797/797 [==============================] - 36s 45ms/step - loss: 1.5050 - accuracy: 0.6208 - f1_score: 0.6252 - val_loss: 1.4335 - val_accuracy: 0.6554 - val_f1_score: 0.6298\n",
      "Epoch 25/200\n",
      "797/797 [==============================] - 36s 46ms/step - loss: 1.5061 - accuracy: 0.6234 - f1_score: 0.6226 - val_loss: 1.4234 - val_accuracy: 0.6433 - val_f1_score: 0.6164\n",
      "Epoch 26/200\n",
      "797/797 [==============================] - 36s 45ms/step - loss: 1.4797 - accuracy: 0.6321 - f1_score: 0.6323 - val_loss: 1.4050 - val_accuracy: 0.6560 - val_f1_score: 0.6375\n",
      "Epoch 27/200\n",
      "797/797 [==============================] - 36s 46ms/step - loss: 1.4418 - accuracy: 0.6344 - f1_score: 0.6307 - val_loss: 1.3916 - val_accuracy: 0.6571 - val_f1_score: 0.6400\n",
      "Epoch 28/200\n",
      "797/797 [==============================] - 36s 45ms/step - loss: 1.4251 - accuracy: 0.6400 - f1_score: 0.6427 - val_loss: 1.3890 - val_accuracy: 0.6603 - val_f1_score: 0.6383\n",
      "Epoch 29/200\n",
      "797/797 [==============================] - 36s 45ms/step - loss: 1.4305 - accuracy: 0.6406 - f1_score: 0.6487 - val_loss: 1.3777 - val_accuracy: 0.6581 - val_f1_score: 0.6387\n",
      "Epoch 30/200\n",
      "797/797 [==============================] - 37s 46ms/step - loss: 1.4132 - accuracy: 0.6431 - f1_score: 0.6486 - val_loss: 1.3696 - val_accuracy: 0.6600 - val_f1_score: 0.6414\n",
      "Epoch 31/200\n",
      "797/797 [==============================] - 36s 45ms/step - loss: 1.4095 - accuracy: 0.6395 - f1_score: 0.6472 - val_loss: 1.3564 - val_accuracy: 0.6659 - val_f1_score: 0.6491\n",
      "Epoch 32/200\n",
      "797/797 [==============================] - 36s 46ms/step - loss: 1.3978 - accuracy: 0.6463 - f1_score: 0.6548 - val_loss: 1.3525 - val_accuracy: 0.6681 - val_f1_score: 0.6516\n",
      "Epoch 33/200\n",
      "797/797 [==============================] - 36s 45ms/step - loss: 1.3776 - accuracy: 0.6443 - f1_score: 0.6595 - val_loss: 1.3391 - val_accuracy: 0.6668 - val_f1_score: 0.6494\n",
      "Epoch 34/200\n",
      "797/797 [==============================] - 37s 46ms/step - loss: 1.3752 - accuracy: 0.6532 - f1_score: 0.6630 - val_loss: 1.3424 - val_accuracy: 0.6697 - val_f1_score: 0.6474\n",
      "Epoch 35/200\n",
      "797/797 [==============================] - 37s 46ms/step - loss: 1.3537 - accuracy: 0.6512 - f1_score: 0.6665 - val_loss: 1.3322 - val_accuracy: 0.6638 - val_f1_score: 0.6547\n",
      "Epoch 36/200\n",
      "797/797 [==============================] - 36s 46ms/step - loss: 1.3478 - accuracy: 0.6618 - f1_score: 0.6750 - val_loss: 1.3281 - val_accuracy: 0.6651 - val_f1_score: 0.6492\n",
      "Epoch 37/200\n",
      "797/797 [==============================] - 37s 46ms/step - loss: 1.3281 - accuracy: 0.6593 - f1_score: 0.6803 - val_loss: 1.3276 - val_accuracy: 0.6670 - val_f1_score: 0.6528\n",
      "Epoch 38/200\n",
      "797/797 [==============================] - 36s 45ms/step - loss: 1.3301 - accuracy: 0.6582 - f1_score: 0.6709 - val_loss: 1.3124 - val_accuracy: 0.6740 - val_f1_score: 0.6635\n",
      "Epoch 39/200\n",
      "797/797 [==============================] - 36s 45ms/step - loss: 1.3168 - accuracy: 0.6645 - f1_score: 0.6856 - val_loss: 1.3057 - val_accuracy: 0.6762 - val_f1_score: 0.6570\n",
      "Epoch 40/200\n",
      "797/797 [==============================] - 37s 46ms/step - loss: 1.3115 - accuracy: 0.6633 - f1_score: 0.6803 - val_loss: 1.2956 - val_accuracy: 0.6705 - val_f1_score: 0.6603\n",
      "Epoch 41/200\n",
      "797/797 [==============================] - 36s 46ms/step - loss: 1.2861 - accuracy: 0.6685 - f1_score: 0.6883 - val_loss: 1.2935 - val_accuracy: 0.6705 - val_f1_score: 0.6544\n",
      "Epoch 42/200\n",
      "797/797 [==============================] - 37s 46ms/step - loss: 1.3033 - accuracy: 0.6675 - f1_score: 0.6853 - val_loss: 1.2959 - val_accuracy: 0.6786 - val_f1_score: 0.6686\n",
      "Epoch 43/200\n",
      "797/797 [==============================] - 36s 46ms/step - loss: 1.2847 - accuracy: 0.6710 - f1_score: 0.6896 - val_loss: 1.2869 - val_accuracy: 0.6748 - val_f1_score: 0.6638\n",
      "Epoch 44/200\n",
      "797/797 [==============================] - 36s 45ms/step - loss: 1.2722 - accuracy: 0.6747 - f1_score: 0.6930 - val_loss: 1.2872 - val_accuracy: 0.6730 - val_f1_score: 0.6607\n",
      "Epoch 45/200\n",
      "797/797 [==============================] - 37s 46ms/step - loss: 1.2727 - accuracy: 0.6728 - f1_score: 0.6971 - val_loss: 1.2740 - val_accuracy: 0.6762 - val_f1_score: 0.6606\n",
      "Epoch 46/200\n",
      "797/797 [==============================] - 37s 46ms/step - loss: 1.2741 - accuracy: 0.6761 - f1_score: 0.6875 - val_loss: 1.2639 - val_accuracy: 0.6827 - val_f1_score: 0.6727\n",
      "Epoch 47/200\n",
      "797/797 [==============================] - 37s 46ms/step - loss: 1.2511 - accuracy: 0.6830 - f1_score: 0.7013 - val_loss: 1.2717 - val_accuracy: 0.6813 - val_f1_score: 0.6647\n",
      "Epoch 48/200\n",
      "797/797 [==============================] - 37s 47ms/step - loss: 1.2663 - accuracy: 0.6764 - f1_score: 0.6998 - val_loss: 1.2703 - val_accuracy: 0.6748 - val_f1_score: 0.6572\n",
      "Epoch 49/200\n",
      "797/797 [==============================] - 37s 46ms/step - loss: 1.2357 - accuracy: 0.6800 - f1_score: 0.7043 - val_loss: 1.2635 - val_accuracy: 0.6808 - val_f1_score: 0.6664\n",
      "Epoch 50/200\n",
      "797/797 [==============================] - 37s 47ms/step - loss: 1.2348 - accuracy: 0.6815 - f1_score: 0.7081 - val_loss: 1.2524 - val_accuracy: 0.6818 - val_f1_score: 0.6663\n",
      "Epoch 51/200\n",
      "797/797 [==============================] - 37s 46ms/step - loss: 1.2305 - accuracy: 0.6815 - f1_score: 0.7044 - val_loss: 1.2526 - val_accuracy: 0.6835 - val_f1_score: 0.6724\n",
      "Epoch 52/200\n",
      "797/797 [==============================] - 37s 46ms/step - loss: 1.2257 - accuracy: 0.6833 - f1_score: 0.7106 - val_loss: 1.2534 - val_accuracy: 0.6845 - val_f1_score: 0.6771\n",
      "Epoch 53/200\n",
      "797/797 [==============================] - 37s 46ms/step - loss: 1.2152 - accuracy: 0.6884 - f1_score: 0.7132 - val_loss: 1.2403 - val_accuracy: 0.6856 - val_f1_score: 0.6706\n",
      "Epoch 54/200\n",
      "797/797 [==============================] - 37s 46ms/step - loss: 1.2225 - accuracy: 0.6899 - f1_score: 0.7092 - val_loss: 1.2416 - val_accuracy: 0.6837 - val_f1_score: 0.6670\n",
      "Epoch 55/200\n",
      "797/797 [==============================] - 37s 46ms/step - loss: 1.2133 - accuracy: 0.6837 - f1_score: 0.7045 - val_loss: 1.2400 - val_accuracy: 0.6840 - val_f1_score: 0.6661\n",
      "Epoch 56/200\n",
      "797/797 [==============================] - 36s 46ms/step - loss: 1.1869 - accuracy: 0.6939 - f1_score: 0.7236 - val_loss: 1.2373 - val_accuracy: 0.6878 - val_f1_score: 0.6774\n",
      "Epoch 57/200\n",
      "797/797 [==============================] - 36s 45ms/step - loss: 1.1810 - accuracy: 0.6936 - f1_score: 0.7233 - val_loss: 1.2360 - val_accuracy: 0.6824 - val_f1_score: 0.6732\n",
      "Epoch 58/200\n",
      "797/797 [==============================] - 37s 46ms/step - loss: 1.1940 - accuracy: 0.6916 - f1_score: 0.7194 - val_loss: 1.2352 - val_accuracy: 0.6875 - val_f1_score: 0.6751\n",
      "Epoch 59/200\n",
      "797/797 [==============================] - 37s 47ms/step - loss: 1.1719 - accuracy: 0.6961 - f1_score: 0.7275 - val_loss: 1.2338 - val_accuracy: 0.6835 - val_f1_score: 0.6670\n",
      "Epoch 60/200\n",
      "797/797 [==============================] - 37s 47ms/step - loss: 1.1733 - accuracy: 0.6980 - f1_score: 0.7229 - val_loss: 1.2282 - val_accuracy: 0.6870 - val_f1_score: 0.6740\n",
      "Epoch 61/200\n",
      "797/797 [==============================] - 37s 46ms/step - loss: 1.1771 - accuracy: 0.6965 - f1_score: 0.7257 - val_loss: 1.2255 - val_accuracy: 0.6891 - val_f1_score: 0.6745\n",
      "Epoch 62/200\n",
      "797/797 [==============================] - 36s 45ms/step - loss: 1.1634 - accuracy: 0.7007 - f1_score: 0.7269 - val_loss: 1.2340 - val_accuracy: 0.6827 - val_f1_score: 0.6690\n",
      "Epoch 63/200\n",
      "797/797 [==============================] - 38s 47ms/step - loss: 1.1696 - accuracy: 0.6906 - f1_score: 0.7203 - val_loss: 1.2158 - val_accuracy: 0.6907 - val_f1_score: 0.6758\n",
      "Epoch 64/200\n",
      "797/797 [==============================] - 37s 46ms/step - loss: 1.1489 - accuracy: 0.7022 - f1_score: 0.7358 - val_loss: 1.2155 - val_accuracy: 0.6918 - val_f1_score: 0.6838\n",
      "Epoch 65/200\n",
      "797/797 [==============================] - 37s 46ms/step - loss: 1.1380 - accuracy: 0.7060 - f1_score: 0.7328 - val_loss: 1.2175 - val_accuracy: 0.6915 - val_f1_score: 0.6823\n",
      "Epoch 66/200\n",
      "797/797 [==============================] - 38s 47ms/step - loss: 1.1420 - accuracy: 0.7006 - f1_score: 0.7289 - val_loss: 1.2121 - val_accuracy: 0.6910 - val_f1_score: 0.6783\n",
      "Epoch 67/200\n",
      "797/797 [==============================] - 37s 47ms/step - loss: 1.1538 - accuracy: 0.6999 - f1_score: 0.7350 - val_loss: 1.2111 - val_accuracy: 0.6921 - val_f1_score: 0.6804\n",
      "Epoch 68/200\n",
      "797/797 [==============================] - 38s 48ms/step - loss: 1.1265 - accuracy: 0.7071 - f1_score: 0.7292 - val_loss: 1.2109 - val_accuracy: 0.6899 - val_f1_score: 0.6755\n",
      "Epoch 69/200\n",
      "797/797 [==============================] - 37s 47ms/step - loss: 1.1344 - accuracy: 0.7009 - f1_score: 0.7326 - val_loss: 1.2094 - val_accuracy: 0.6913 - val_f1_score: 0.6759\n",
      "Epoch 70/200\n",
      "797/797 [==============================] - 38s 47ms/step - loss: 1.1330 - accuracy: 0.7014 - f1_score: 0.7307 - val_loss: 1.2125 - val_accuracy: 0.6845 - val_f1_score: 0.6713\n",
      "Epoch 71/200\n",
      "797/797 [==============================] - 38s 47ms/step - loss: 1.1406 - accuracy: 0.7022 - f1_score: 0.7290 - val_loss: 1.2055 - val_accuracy: 0.6926 - val_f1_score: 0.6820\n",
      "Epoch 72/200\n",
      "797/797 [==============================] - 37s 46ms/step - loss: 1.1181 - accuracy: 0.7098 - f1_score: 0.7433 - val_loss: 1.1999 - val_accuracy: 0.6945 - val_f1_score: 0.6832\n",
      "Epoch 73/200\n",
      "797/797 [==============================] - 37s 46ms/step - loss: 1.1326 - accuracy: 0.7022 - f1_score: 0.7380 - val_loss: 1.1973 - val_accuracy: 0.6915 - val_f1_score: 0.6739\n",
      "Epoch 74/200\n",
      "797/797 [==============================] - 37s 47ms/step - loss: 1.1233 - accuracy: 0.7040 - f1_score: 0.7383 - val_loss: 1.2088 - val_accuracy: 0.6918 - val_f1_score: 0.6780\n",
      "Epoch 75/200\n",
      "797/797 [==============================] - 37s 46ms/step - loss: 1.1149 - accuracy: 0.7059 - f1_score: 0.7310 - val_loss: 1.2030 - val_accuracy: 0.6902 - val_f1_score: 0.6791\n",
      "Epoch 76/200\n",
      "797/797 [==============================] - 38s 48ms/step - loss: 1.1111 - accuracy: 0.7082 - f1_score: 0.7435 - val_loss: 1.1960 - val_accuracy: 0.6932 - val_f1_score: 0.6854\n",
      "Epoch 77/200\n",
      "797/797 [==============================] - 37s 47ms/step - loss: 1.0964 - accuracy: 0.7124 - f1_score: 0.7407 - val_loss: 1.2038 - val_accuracy: 0.6907 - val_f1_score: 0.6779\n",
      "Epoch 78/200\n",
      "797/797 [==============================] - 37s 47ms/step - loss: 1.1058 - accuracy: 0.7105 - f1_score: 0.7466 - val_loss: 1.1940 - val_accuracy: 0.6864 - val_f1_score: 0.6794\n",
      "Epoch 79/200\n",
      "797/797 [==============================] - 38s 47ms/step - loss: 1.0963 - accuracy: 0.7134 - f1_score: 0.7446 - val_loss: 1.1890 - val_accuracy: 0.6942 - val_f1_score: 0.6841\n",
      "Epoch 80/200\n",
      "797/797 [==============================] - 37s 47ms/step - loss: 1.0939 - accuracy: 0.7164 - f1_score: 0.7515 - val_loss: 1.1922 - val_accuracy: 0.6929 - val_f1_score: 0.6830\n",
      "Epoch 81/200\n",
      "797/797 [==============================] - 38s 47ms/step - loss: 1.0875 - accuracy: 0.7136 - f1_score: 0.7451 - val_loss: 1.1922 - val_accuracy: 0.6945 - val_f1_score: 0.6874\n",
      "Epoch 82/200\n",
      "797/797 [==============================] - 37s 46ms/step - loss: 1.0800 - accuracy: 0.7181 - f1_score: 0.7523 - val_loss: 1.1877 - val_accuracy: 0.6921 - val_f1_score: 0.6814\n",
      "Epoch 83/200\n",
      "797/797 [==============================] - 37s 46ms/step - loss: 1.0788 - accuracy: 0.7146 - f1_score: 0.7470 - val_loss: 1.1863 - val_accuracy: 0.6961 - val_f1_score: 0.6831\n",
      "Epoch 84/200\n",
      "797/797 [==============================] - 36s 45ms/step - loss: 1.0778 - accuracy: 0.7149 - f1_score: 0.7500 - val_loss: 1.1813 - val_accuracy: 0.6929 - val_f1_score: 0.6778\n",
      "Epoch 85/200\n",
      "797/797 [==============================] - 37s 46ms/step - loss: 1.0786 - accuracy: 0.7118 - f1_score: 0.7502 - val_loss: 1.1898 - val_accuracy: 0.6942 - val_f1_score: 0.6832\n",
      "Epoch 86/200\n",
      "797/797 [==============================] - 36s 45ms/step - loss: 1.0683 - accuracy: 0.7203 - f1_score: 0.7543 - val_loss: 1.1843 - val_accuracy: 0.6967 - val_f1_score: 0.6840\n",
      "Epoch 87/200\n",
      "797/797 [==============================] - 37s 47ms/step - loss: 1.0655 - accuracy: 0.7193 - f1_score: 0.7506 - val_loss: 1.1785 - val_accuracy: 0.6961 - val_f1_score: 0.6844\n",
      "Epoch 88/200\n",
      "797/797 [==============================] - 36s 46ms/step - loss: 1.0647 - accuracy: 0.7194 - f1_score: 0.7545 - val_loss: 1.1821 - val_accuracy: 0.6980 - val_f1_score: 0.6900\n",
      "Epoch 89/200\n",
      "797/797 [==============================] - 38s 47ms/step - loss: 1.0576 - accuracy: 0.7217 - f1_score: 0.7618 - val_loss: 1.1854 - val_accuracy: 0.6959 - val_f1_score: 0.6863\n",
      "Epoch 90/200\n",
      "797/797 [==============================] - 36s 45ms/step - loss: 1.0511 - accuracy: 0.7237 - f1_score: 0.7590 - val_loss: 1.1757 - val_accuracy: 0.7042 - val_f1_score: 0.6907\n",
      "Epoch 91/200\n",
      "797/797 [==============================] - 37s 46ms/step - loss: 1.0457 - accuracy: 0.7209 - f1_score: 0.7600 - val_loss: 1.1842 - val_accuracy: 0.6961 - val_f1_score: 0.6805\n",
      "Epoch 92/200\n",
      "797/797 [==============================] - 36s 46ms/step - loss: 1.0573 - accuracy: 0.7213 - f1_score: 0.7612 - val_loss: 1.1787 - val_accuracy: 0.6975 - val_f1_score: 0.6871\n",
      "Epoch 93/200\n",
      "797/797 [==============================] - 37s 46ms/step - loss: 1.0569 - accuracy: 0.7175 - f1_score: 0.7600 - val_loss: 1.1795 - val_accuracy: 0.6975 - val_f1_score: 0.6790\n",
      "Epoch 94/200\n",
      "797/797 [==============================] - 36s 46ms/step - loss: 1.0433 - accuracy: 0.7239 - f1_score: 0.7631 - val_loss: 1.1738 - val_accuracy: 0.7012 - val_f1_score: 0.6971\n",
      "Epoch 95/200\n",
      "797/797 [==============================] - 37s 47ms/step - loss: 1.0407 - accuracy: 0.7199 - f1_score: 0.7540 - val_loss: 1.1738 - val_accuracy: 0.6948 - val_f1_score: 0.6766\n",
      "Epoch 96/200\n",
      "797/797 [==============================] - 36s 45ms/step - loss: 1.0494 - accuracy: 0.7269 - f1_score: 0.7624 - val_loss: 1.1781 - val_accuracy: 0.6983 - val_f1_score: 0.6874\n",
      "Epoch 97/200\n",
      "797/797 [==============================] - 37s 47ms/step - loss: 1.0479 - accuracy: 0.7191 - f1_score: 0.7510 - val_loss: 1.1825 - val_accuracy: 0.6969 - val_f1_score: 0.6846\n",
      "Epoch 98/200\n",
      "797/797 [==============================] - 36s 45ms/step - loss: 1.0447 - accuracy: 0.7222 - f1_score: 0.7596 - val_loss: 1.1707 - val_accuracy: 0.6977 - val_f1_score: 0.6830\n",
      "Epoch 99/200\n",
      "797/797 [==============================] - 37s 46ms/step - loss: 1.0241 - accuracy: 0.7305 - f1_score: 0.7660 - val_loss: 1.1683 - val_accuracy: 0.6983 - val_f1_score: 0.6809\n",
      "Epoch 100/200\n",
      "797/797 [==============================] - 36s 45ms/step - loss: 1.0351 - accuracy: 0.7277 - f1_score: 0.7663 - val_loss: 1.1654 - val_accuracy: 0.7012 - val_f1_score: 0.6851\n",
      "Epoch 101/200\n",
      "797/797 [==============================] - 38s 47ms/step - loss: 1.0360 - accuracy: 0.7245 - f1_score: 0.7666 - val_loss: 1.1691 - val_accuracy: 0.6994 - val_f1_score: 0.6835\n",
      "Epoch 102/200\n",
      "797/797 [==============================] - 36s 46ms/step - loss: 1.0385 - accuracy: 0.7232 - f1_score: 0.7608 - val_loss: 1.1623 - val_accuracy: 0.7039 - val_f1_score: 0.6953\n",
      "Epoch 103/200\n",
      "797/797 [==============================] - 37s 47ms/step - loss: 1.0318 - accuracy: 0.7267 - f1_score: 0.7689 - val_loss: 1.1718 - val_accuracy: 0.6934 - val_f1_score: 0.6839\n",
      "Epoch 104/200\n",
      "797/797 [==============================] - 36s 45ms/step - loss: 1.0293 - accuracy: 0.7287 - f1_score: 0.7649 - val_loss: 1.1669 - val_accuracy: 0.6956 - val_f1_score: 0.6845\n",
      "Epoch 105/200\n",
      "797/797 [==============================] - 37s 47ms/step - loss: 1.0227 - accuracy: 0.7279 - f1_score: 0.7688 - val_loss: 1.1773 - val_accuracy: 0.6969 - val_f1_score: 0.6856\n",
      "Epoch 106/200\n",
      "797/797 [==============================] - 36s 45ms/step - loss: 1.0259 - accuracy: 0.7271 - f1_score: 0.7693 - val_loss: 1.1731 - val_accuracy: 0.6967 - val_f1_score: 0.6825\n",
      "Epoch 107/200\n",
      "797/797 [==============================] - 38s 47ms/step - loss: 1.0136 - accuracy: 0.7316 - f1_score: 0.7701 - val_loss: 1.1708 - val_accuracy: 0.6967 - val_f1_score: 0.6761\n",
      "Epoch 108/200\n",
      "797/797 [==============================] - 36s 45ms/step - loss: 1.0197 - accuracy: 0.7287 - f1_score: 0.7668 - val_loss: 1.1642 - val_accuracy: 0.7012 - val_f1_score: 0.6921\n",
      "Epoch 109/200\n",
      "797/797 [==============================] - 38s 48ms/step - loss: 0.9943 - accuracy: 0.7346 - f1_score: 0.7760 - val_loss: 1.1592 - val_accuracy: 0.7034 - val_f1_score: 0.6910\n",
      "Epoch 110/200\n",
      "797/797 [==============================] - 36s 45ms/step - loss: 1.0069 - accuracy: 0.7324 - f1_score: 0.7691 - val_loss: 1.1552 - val_accuracy: 0.7101 - val_f1_score: 0.7006\n",
      "Epoch 111/200\n",
      "797/797 [==============================] - 37s 46ms/step - loss: 0.9939 - accuracy: 0.7356 - f1_score: 0.7708 - val_loss: 1.1664 - val_accuracy: 0.6983 - val_f1_score: 0.6839\n",
      "Epoch 112/200\n",
      "797/797 [==============================] - 36s 45ms/step - loss: 1.0007 - accuracy: 0.7331 - f1_score: 0.7658 - val_loss: 1.1679 - val_accuracy: 0.6999 - val_f1_score: 0.6906\n",
      "Epoch 113/200\n",
      "797/797 [==============================] - 37s 47ms/step - loss: 1.0149 - accuracy: 0.7279 - f1_score: 0.7719 - val_loss: 1.1599 - val_accuracy: 0.6985 - val_f1_score: 0.6897\n",
      "Epoch 114/200\n",
      "797/797 [==============================] - 36s 45ms/step - loss: 1.0010 - accuracy: 0.7326 - f1_score: 0.7670 - val_loss: 1.1626 - val_accuracy: 0.7058 - val_f1_score: 0.6956\n",
      "Epoch 115/200\n",
      "797/797 [==============================] - 37s 47ms/step - loss: 0.9998 - accuracy: 0.7264 - f1_score: 0.7648 - val_loss: 1.1623 - val_accuracy: 0.7018 - val_f1_score: 0.6921\n",
      "Epoch 116/200\n",
      "797/797 [==============================] - 36s 45ms/step - loss: 0.9807 - accuracy: 0.7380 - f1_score: 0.7771 - val_loss: 1.1582 - val_accuracy: 0.6994 - val_f1_score: 0.6834\n",
      "Epoch 117/200\n",
      "797/797 [==============================] - 37s 46ms/step - loss: 1.0030 - accuracy: 0.7326 - f1_score: 0.7707 - val_loss: 1.1678 - val_accuracy: 0.7012 - val_f1_score: 0.6853\n",
      "Epoch 118/200\n",
      "797/797 [==============================] - 36s 45ms/step - loss: 0.9800 - accuracy: 0.7369 - f1_score: 0.7721 - val_loss: 1.1588 - val_accuracy: 0.7023 - val_f1_score: 0.6949\n",
      "Epoch 119/200\n",
      "797/797 [==============================] - 38s 48ms/step - loss: 0.9805 - accuracy: 0.7377 - f1_score: 0.7769 - val_loss: 1.1514 - val_accuracy: 0.7053 - val_f1_score: 0.7006\n",
      "Epoch 120/200\n",
      "797/797 [==============================] - 36s 45ms/step - loss: 0.9892 - accuracy: 0.7363 - f1_score: 0.7742 - val_loss: 1.1665 - val_accuracy: 0.7045 - val_f1_score: 0.6907\n",
      "Epoch 121/200\n",
      "797/797 [==============================] - 38s 47ms/step - loss: 0.9867 - accuracy: 0.7354 - f1_score: 0.7788 - val_loss: 1.1637 - val_accuracy: 0.6983 - val_f1_score: 0.6853\n",
      "Epoch 122/200\n",
      "797/797 [==============================] - 36s 45ms/step - loss: 0.9869 - accuracy: 0.7364 - f1_score: 0.7762 - val_loss: 1.1556 - val_accuracy: 0.7026 - val_f1_score: 0.6905\n",
      "Epoch 123/200\n",
      "797/797 [==============================] - 37s 47ms/step - loss: 0.9856 - accuracy: 0.7306 - f1_score: 0.7735 - val_loss: 1.1529 - val_accuracy: 0.7034 - val_f1_score: 0.6946\n",
      "Epoch 124/200\n",
      "797/797 [==============================] - 36s 45ms/step - loss: 0.9732 - accuracy: 0.7415 - f1_score: 0.7798 - val_loss: 1.1551 - val_accuracy: 0.7010 - val_f1_score: 0.6960\n",
      "Epoch 125/200\n",
      "797/797 [==============================] - 38s 47ms/step - loss: 0.9899 - accuracy: 0.7322 - f1_score: 0.7739 - val_loss: 1.1564 - val_accuracy: 0.7002 - val_f1_score: 0.6857\n",
      "Epoch 126/200\n",
      "797/797 [==============================] - 36s 45ms/step - loss: 0.9562 - accuracy: 0.7442 - f1_score: 0.7789 - val_loss: 1.1574 - val_accuracy: 0.6994 - val_f1_score: 0.6925\n",
      "Epoch 127/200\n",
      "797/797 [==============================] - 37s 47ms/step - loss: 0.9739 - accuracy: 0.7349 - f1_score: 0.7767 - val_loss: 1.1542 - val_accuracy: 0.6985 - val_f1_score: 0.6908\n",
      "Epoch 128/200\n",
      "797/797 [==============================] - 36s 45ms/step - loss: 0.9753 - accuracy: 0.7401 - f1_score: 0.7745 - val_loss: 1.1535 - val_accuracy: 0.7050 - val_f1_score: 0.6941\n",
      "Epoch 129/200\n",
      "797/797 [==============================] - 37s 47ms/step - loss: 0.9635 - accuracy: 0.7455 - f1_score: 0.7855 - val_loss: 1.1484 - val_accuracy: 0.7023 - val_f1_score: 0.6944\n",
      "Epoch 130/200\n",
      "797/797 [==============================] - 36s 45ms/step - loss: 0.9676 - accuracy: 0.7378 - f1_score: 0.7803 - val_loss: 1.1516 - val_accuracy: 0.7037 - val_f1_score: 0.6985\n"
     ]
    }
   ],
   "source": [
    "callbacks = [\n",
    "    tf.keras.callbacks.EarlyStopping(\n",
    "        monitor='val_f1_score', mode='max', patience=20),\n",
    "    tf.keras.callbacks.ModelCheckpoint(\n",
    "        'model.h5', monitor='val_f1_score', mode='max', \n",
    "        save_best_only=True, save_weights_only=True)\n",
    "]\n",
    "history = model.fit(train_dataset, epochs=200, validation_data=val_dataset, \n",
    "         steps_per_epoch=TRAIN_LEN // BATCH_SIZE, callbacks=callbacks)"
   ]
  },
  {
   "cell_type": "code",
   "execution_count": 11,
   "id": "6a9834f6",
   "metadata": {
    "execution": {
     "iopub.execute_input": "2022-09-21T06:24:26.565579Z",
     "iopub.status.busy": "2022-09-21T06:24:26.565215Z",
     "iopub.status.idle": "2022-09-21T06:24:27.123288Z",
     "shell.execute_reply": "2022-09-21T06:24:27.114744Z"
    },
    "papermill": {
     "duration": 3.712196,
     "end_time": "2022-09-21T06:24:27.125376",
     "exception": false,
     "start_time": "2022-09-21T06:24:23.413180",
     "status": "completed"
    },
    "tags": []
   },
   "outputs": [
    {
     "data": {
      "image/png": "[encoded data removed]",
      "text/plain": [
       "<Figure size 1008x432 with 3 Axes>"
      ]
     },
     "metadata": {
      "needs_background": "light"
     },
     "output_type": "display_data"
    }
   ],
   "source": [
    "import matplotlib.pyplot as plt\n",
    "plt.figure(figsize=(14, 6))\n",
    "plt.subplot(131)\n",
    "plt.plot(history.history['loss'], label='Train')\n",
    "plt.plot(history.history['val_loss'], label='Test')\n",
    "plt.title('Loss')\n",
    "plt.xlabel('epochs')\n",
    "plt.legend()\n",
    "\n",
    "plt.subplot(132)\n",
    "plt.plot(history.history['accuracy'], label='Train')\n",
    "plt.plot(history.history['val_accuracy'], label='Test')\n",
    "plt.title('Accuracy')\n",
    "plt.xlabel('epochs')\n",
    "plt.legend()\n",
    "\n",
    "plt.subplot(133)\n",
    "plt.plot(history.history['f1_score'], label='Train')\n",
    "plt.plot(history.history['val_f1_score'], label='Test')\n",
    "plt.title('F1 score')\n",
    "plt.xlabel('epochs')\n",
    "plt.legend()\n",
    "plt.show()"
   ]
  },
  {
   "cell_type": "code",
   "execution_count": 12,
   "id": "77508e03",
   "metadata": {
    "execution": {
     "iopub.execute_input": "2022-09-21T06:24:33.095781Z",
     "iopub.status.busy": "2022-09-21T06:24:33.095428Z",
     "iopub.status.idle": "2022-09-21T06:24:33.187357Z",
     "shell.execute_reply": "2022-09-21T06:24:33.186482Z"
    },
    "papermill": {
     "duration": 3.062967,
     "end_time": "2022-09-21T06:24:33.189560",
     "exception": false,
     "start_time": "2022-09-21T06:24:30.126593",
     "status": "completed"
    },
    "tags": []
   },
   "outputs": [
    {
     "data": {
      "text/plain": [
       "array(['b48c962e0', 'a13d3dfa4', '94269c190', ..., 'b4d954bdc',\n",
       "       'f84335116', '6ab138316'], dtype=object)"
      ]
     },
     "execution_count": 12,
     "metadata": {},
     "output_type": "execute_result"
    }
   ],
   "source": [
    "model.load_weights('model.h5')\n",
    "submission = pd.read_csv(os.path.join(ROOT_DIR, 'sample_submission.csv'))\n",
    "sub_id = submission['id'].values\n",
    "sub_id"
   ]
  },
  {
   "cell_type": "code",
   "execution_count": 13,
   "id": "61bc928f",
   "metadata": {
    "execution": {
     "iopub.execute_input": "2022-09-21T06:24:39.420667Z",
     "iopub.status.busy": "2022-09-21T06:24:39.420302Z",
     "iopub.status.idle": "2022-09-21T06:24:44.242086Z",
     "shell.execute_reply": "2022-09-21T06:24:44.241121Z"
    },
    "papermill": {
     "duration": 8.077955,
     "end_time": "2022-09-21T06:24:44.244536",
     "exception": false,
     "start_time": "2022-09-21T06:24:36.166581",
     "status": "completed"
    },
    "tags": []
   },
   "outputs": [
    {
     "data": {
      "text/plain": [
       "array(['59d1b6146', '48c96bd6b', '7b437ba4e', ..., 'f9c931893',\n",
       "       '18c7b92b8', '523df966b'], dtype=object)"
      ]
     },
     "execution_count": 13,
     "metadata": {},
     "output_type": "execute_result"
    }
   ],
   "source": [
    "test_ds = test_dataset.unbatch().map(lambda img, ids: ids)\n",
    "test_ds = test_ds.batch(TEST_LEN)\n",
    "test_ids = next(test_ds.as_numpy_iterator()).astype('U12').astype(np.object)\n",
    "test_ids"
   ]
  },
  {
   "cell_type": "code",
   "execution_count": 14,
   "id": "99dd8f76",
   "metadata": {
    "execution": {
     "iopub.execute_input": "2022-09-21T06:24:50.482614Z",
     "iopub.status.busy": "2022-09-21T06:24:50.482188Z",
     "iopub.status.idle": "2022-09-21T06:25:11.203037Z",
     "shell.execute_reply": "2022-09-21T06:25:11.201880Z"
    },
    "papermill": {
     "duration": 24.024611,
     "end_time": "2022-09-21T06:25:11.205105",
     "exception": false,
     "start_time": "2022-09-21T06:24:47.180494",
     "status": "completed"
    },
    "tags": []
   },
   "outputs": [
    {
     "data": {
      "text/plain": [
       "array([46, 15,  9, ..., 49, 41, 53])"
      ]
     },
     "execution_count": 14,
     "metadata": {},
     "output_type": "execute_result"
    }
   ],
   "source": [
    "pred = model.predict(test_dataset).argmax(axis=-1)\n",
    "pred"
   ]
  },
  {
   "cell_type": "code",
   "execution_count": 15,
   "id": "2e37dd31",
   "metadata": {
    "execution": {
     "iopub.execute_input": "2022-09-21T06:25:17.096049Z",
     "iopub.status.busy": "2022-09-21T06:25:17.095660Z",
     "iopub.status.idle": "2022-09-21T06:25:17.110566Z",
     "shell.execute_reply": "2022-09-21T06:25:17.109624Z"
    },
    "papermill": {
     "duration": 2.911271,
     "end_time": "2022-09-21T06:25:17.112600",
     "exception": false,
     "start_time": "2022-09-21T06:25:14.201329",
     "status": "completed"
    },
    "tags": []
   },
   "outputs": [
    {
     "data": {
      "text/html": [
       "<div>\n",
       "<style scoped>\n",
       "    .dataframe tbody tr th:only-of-type {\n",
       "        vertical-align: middle;\n",
       "    }\n",
       "\n",
       "    .dataframe tbody tr th {\n",
       "        vertical-align: top;\n",
       "    }\n",
       "\n",
       "    .dataframe thead th {\n",
       "        text-align: right;\n",
       "    }\n",
       "</style>\n",
       "<table border=\"1\" class=\"dataframe\">\n",
       "  <thead>\n",
       "    <tr style=\"text-align: right;\">\n",
       "      <th></th>\n",
       "      <th>id</th>\n",
       "      <th>label</th>\n",
       "    </tr>\n",
       "  </thead>\n",
       "  <tbody>\n",
       "    <tr>\n",
       "      <th>0</th>\n",
       "      <td>59d1b6146</td>\n",
       "      <td>46</td>\n",
       "    </tr>\n",
       "    <tr>\n",
       "      <th>1</th>\n",
       "      <td>48c96bd6b</td>\n",
       "      <td>15</td>\n",
       "    </tr>\n",
       "    <tr>\n",
       "      <th>2</th>\n",
       "      <td>7b437ba4e</td>\n",
       "      <td>9</td>\n",
       "    </tr>\n",
       "    <tr>\n",
       "      <th>3</th>\n",
       "      <td>1b7aef8e8</td>\n",
       "      <td>79</td>\n",
       "    </tr>\n",
       "    <tr>\n",
       "      <th>4</th>\n",
       "      <td>d6143b4d4</td>\n",
       "      <td>4</td>\n",
       "    </tr>\n",
       "    <tr>\n",
       "      <th>...</th>\n",
       "      <td>...</td>\n",
       "      <td>...</td>\n",
       "    </tr>\n",
       "    <tr>\n",
       "      <th>7377</th>\n",
       "      <td>2a608c0db</td>\n",
       "      <td>103</td>\n",
       "    </tr>\n",
       "    <tr>\n",
       "      <th>7378</th>\n",
       "      <td>d82a21bbd</td>\n",
       "      <td>93</td>\n",
       "    </tr>\n",
       "    <tr>\n",
       "      <th>7379</th>\n",
       "      <td>f9c931893</td>\n",
       "      <td>49</td>\n",
       "    </tr>\n",
       "    <tr>\n",
       "      <th>7380</th>\n",
       "      <td>18c7b92b8</td>\n",
       "      <td>41</td>\n",
       "    </tr>\n",
       "    <tr>\n",
       "      <th>7381</th>\n",
       "      <td>523df966b</td>\n",
       "      <td>53</td>\n",
       "    </tr>\n",
       "  </tbody>\n",
       "</table>\n",
       "<p>7382 rows × 2 columns</p>\n",
       "</div>"
      ],
      "text/plain": [
       "             id  label\n",
       "0     59d1b6146     46\n",
       "1     48c96bd6b     15\n",
       "2     7b437ba4e      9\n",
       "3     1b7aef8e8     79\n",
       "4     d6143b4d4      4\n",
       "...         ...    ...\n",
       "7377  2a608c0db    103\n",
       "7378  d82a21bbd     93\n",
       "7379  f9c931893     49\n",
       "7380  18c7b92b8     41\n",
       "7381  523df966b     53\n",
       "\n",
       "[7382 rows x 2 columns]"
      ]
     },
     "execution_count": 15,
     "metadata": {},
     "output_type": "execute_result"
    }
   ],
   "source": [
    "pred_ds = pd.DataFrame({'id': test_ids, 'label': pred})\n",
    "pred_ds"
   ]
  },
  {
   "cell_type": "code",
   "execution_count": 16,
   "id": "c8769ca8",
   "metadata": {
    "execution": {
     "iopub.execute_input": "2022-09-21T06:25:23.797174Z",
     "iopub.status.busy": "2022-09-21T06:25:23.796790Z",
     "iopub.status.idle": "2022-09-21T06:25:23.826643Z",
     "shell.execute_reply": "2022-09-21T06:25:23.825549Z"
    },
    "papermill": {
     "duration": 3.787499,
     "end_time": "2022-09-21T06:25:23.829021",
     "exception": false,
     "start_time": "2022-09-21T06:25:20.041522",
     "status": "completed"
    },
    "tags": []
   },
   "outputs": [
    {
     "data": {
      "text/html": [
       "<div>\n",
       "<style scoped>\n",
       "    .dataframe tbody tr th:only-of-type {\n",
       "        vertical-align: middle;\n",
       "    }\n",
       "\n",
       "    .dataframe tbody tr th {\n",
       "        vertical-align: top;\n",
       "    }\n",
       "\n",
       "    .dataframe thead th {\n",
       "        text-align: right;\n",
       "    }\n",
       "</style>\n",
       "<table border=\"1\" class=\"dataframe\">\n",
       "  <thead>\n",
       "    <tr style=\"text-align: right;\">\n",
       "      <th></th>\n",
       "      <th>id</th>\n",
       "      <th>label</th>\n",
       "    </tr>\n",
       "  </thead>\n",
       "  <tbody>\n",
       "    <tr>\n",
       "      <th>0</th>\n",
       "      <td>b48c962e0</td>\n",
       "      <td>25</td>\n",
       "    </tr>\n",
       "    <tr>\n",
       "      <th>1</th>\n",
       "      <td>a13d3dfa4</td>\n",
       "      <td>50</td>\n",
       "    </tr>\n",
       "    <tr>\n",
       "      <th>2</th>\n",
       "      <td>94269c190</td>\n",
       "      <td>73</td>\n",
       "    </tr>\n",
       "    <tr>\n",
       "      <th>3</th>\n",
       "      <td>bcb18c6e4</td>\n",
       "      <td>4</td>\n",
       "    </tr>\n",
       "    <tr>\n",
       "      <th>4</th>\n",
       "      <td>d15a4d94c</td>\n",
       "      <td>49</td>\n",
       "    </tr>\n",
       "    <tr>\n",
       "      <th>...</th>\n",
       "      <td>...</td>\n",
       "      <td>...</td>\n",
       "    </tr>\n",
       "    <tr>\n",
       "      <th>7377</th>\n",
       "      <td>3744d58d1</td>\n",
       "      <td>21</td>\n",
       "    </tr>\n",
       "    <tr>\n",
       "      <th>7378</th>\n",
       "      <td>075602d66</td>\n",
       "      <td>67</td>\n",
       "    </tr>\n",
       "    <tr>\n",
       "      <th>7379</th>\n",
       "      <td>b4d954bdc</td>\n",
       "      <td>80</td>\n",
       "    </tr>\n",
       "    <tr>\n",
       "      <th>7380</th>\n",
       "      <td>f84335116</td>\n",
       "      <td>40</td>\n",
       "    </tr>\n",
       "    <tr>\n",
       "      <th>7381</th>\n",
       "      <td>6ab138316</td>\n",
       "      <td>91</td>\n",
       "    </tr>\n",
       "  </tbody>\n",
       "</table>\n",
       "<p>7382 rows × 2 columns</p>\n",
       "</div>"
      ],
      "text/plain": [
       "             id  label\n",
       "0     b48c962e0     25\n",
       "1     a13d3dfa4     50\n",
       "2     94269c190     73\n",
       "3     bcb18c6e4      4\n",
       "4     d15a4d94c     49\n",
       "...         ...    ...\n",
       "7377  3744d58d1     21\n",
       "7378  075602d66     67\n",
       "7379  b4d954bdc     80\n",
       "7380  f84335116     40\n",
       "7381  6ab138316     91\n",
       "\n",
       "[7382 rows x 2 columns]"
      ]
     },
     "execution_count": 16,
     "metadata": {},
     "output_type": "execute_result"
    }
   ],
   "source": [
    "sub_pred = pd.merge(submission.drop('label', axis=1), pred_ds, how='left', on='id')\n",
    "sub_pred"
   ]
  },
  {
   "cell_type": "code",
   "execution_count": 17,
   "id": "05bb8019",
   "metadata": {
    "execution": {
     "iopub.execute_input": "2022-09-21T06:25:29.773501Z",
     "iopub.status.busy": "2022-09-21T06:25:29.773121Z",
     "iopub.status.idle": "2022-09-21T06:25:29.787333Z",
     "shell.execute_reply": "2022-09-21T06:25:29.786477Z"
    },
    "papermill": {
     "duration": 2.989291,
     "end_time": "2022-09-21T06:25:29.789311",
     "exception": false,
     "start_time": "2022-09-21T06:25:26.800020",
     "status": "completed"
    },
    "tags": []
   },
   "outputs": [],
   "source": [
    "sub_pred.to_csv('submission.csv', index=False)"
   ]
  }
 ],
 "metadata": {
  "kernelspec": {
   "display_name": "Python 3",
   "language": "python",
   "name": "python3"
  },
  "language_info": {
   "codemirror_mode": {
    "name": "ipython",
    "version": 3
   },
   "file_extension": ".py",
   "mimetype": "text/x-python",
   "name": "python",
   "nbconvert_exporter": "python",
   "pygments_lexer": "ipython3",
   "version": "3.7.12"
  },
  "papermill": {
   "default_parameters": {},
   "duration": 4931.230164,
   "end_time": "2022-09-21T06:25:36.153058",
   "environment_variables": {},
   "exception": null,
   "input_path": "__notebook__.ipynb",
   "output_path": "__notebook__.ipynb",
   "parameters": {},
   "start_time": "2022-09-21T05:03:24.922894",
   "version": "2.3.4"
  }
 },
 "nbformat": 4,
 "nbformat_minor": 5
}

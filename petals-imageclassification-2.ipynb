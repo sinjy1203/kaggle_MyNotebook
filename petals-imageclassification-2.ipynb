{
 "cells": [
  {
   "cell_type": "markdown",
   "id": "75831cba",
   "metadata": {
    "papermill": {
     "duration": 0.00615,
     "end_time": "2022-09-22T02:24:12.511713",
     "exception": false,
     "start_time": "2022-09-22T02:24:12.505563",
     "status": "completed"
    },
    "tags": []
   },
   "source": [
    "# Transfer Learning \n",
    "# Data augmentation\n",
    "# Learning rate schedule"
   ]
  },
  {
   "cell_type": "code",
   "execution_count": 1,
   "id": "69e4c044",
   "metadata": {
    "_cell_guid": "b1076dfc-b9ad-4769-8c92-a6c4dae69d19",
    "_uuid": "8f2839f25d086af736a60e9eeb907d3b93b6e0e5",
    "execution": {
     "iopub.execute_input": "2022-09-22T02:24:12.526134Z",
     "iopub.status.busy": "2022-09-22T02:24:12.525556Z",
     "iopub.status.idle": "2022-09-22T02:24:12.611778Z",
     "shell.execute_reply": "2022-09-22T02:24:12.610805Z"
    },
    "papermill": {
     "duration": 0.099928,
     "end_time": "2022-09-22T02:24:12.616743",
     "exception": false,
     "start_time": "2022-09-22T02:24:12.516815",
     "status": "completed"
    },
    "tags": []
   },
   "outputs": [
    {
     "name": "stdout",
     "output_type": "stream",
     "text": [
      "/kaggle/input/tpu-getting-started/sample_submission.csv\n",
      "/kaggle/input/tpu-getting-started/tfrecords-jpeg-224x224/val/09-224x224-232.tfrec\n",
      "/kaggle/input/tpu-getting-started/tfrecords-jpeg-224x224/val/14-224x224-232.tfrec\n",
      "/kaggle/input/tpu-getting-started/tfrecords-jpeg-224x224/val/01-224x224-232.tfrec\n",
      "/kaggle/input/tpu-getting-started/tfrecords-jpeg-224x224/val/13-224x224-232.tfrec\n",
      "/kaggle/input/tpu-getting-started/tfrecords-jpeg-224x224/val/00-224x224-232.tfrec\n",
      "/kaggle/input/tpu-getting-started/tfrecords-jpeg-224x224/val/07-224x224-232.tfrec\n",
      "/kaggle/input/tpu-getting-started/tfrecords-jpeg-224x224/val/12-224x224-232.tfrec\n",
      "/kaggle/input/tpu-getting-started/tfrecords-jpeg-224x224/val/11-224x224-232.tfrec\n",
      "/kaggle/input/tpu-getting-started/tfrecords-jpeg-224x224/val/05-224x224-232.tfrec\n",
      "/kaggle/input/tpu-getting-started/tfrecords-jpeg-224x224/val/04-224x224-232.tfrec\n",
      "/kaggle/input/tpu-getting-started/tfrecords-jpeg-224x224/val/15-224x224-232.tfrec\n",
      "/kaggle/input/tpu-getting-started/tfrecords-jpeg-224x224/val/06-224x224-232.tfrec\n",
      "/kaggle/input/tpu-getting-started/tfrecords-jpeg-224x224/val/02-224x224-232.tfrec\n",
      "/kaggle/input/tpu-getting-started/tfrecords-jpeg-224x224/val/03-224x224-232.tfrec\n",
      "/kaggle/input/tpu-getting-started/tfrecords-jpeg-224x224/val/08-224x224-232.tfrec\n",
      "/kaggle/input/tpu-getting-started/tfrecords-jpeg-224x224/val/10-224x224-232.tfrec\n",
      "/kaggle/input/tpu-getting-started/tfrecords-jpeg-224x224/test/04-224x224-462.tfrec\n",
      "/kaggle/input/tpu-getting-started/tfrecords-jpeg-224x224/test/06-224x224-462.tfrec\n",
      "/kaggle/input/tpu-getting-started/tfrecords-jpeg-224x224/test/05-224x224-462.tfrec\n",
      "/kaggle/input/tpu-getting-started/tfrecords-jpeg-224x224/test/08-224x224-462.tfrec\n",
      "/kaggle/input/tpu-getting-started/tfrecords-jpeg-224x224/test/15-224x224-452.tfrec\n",
      "/kaggle/input/tpu-getting-started/tfrecords-jpeg-224x224/test/09-224x224-462.tfrec\n",
      "/kaggle/input/tpu-getting-started/tfrecords-jpeg-224x224/test/10-224x224-462.tfrec\n",
      "/kaggle/input/tpu-getting-started/tfrecords-jpeg-224x224/test/07-224x224-462.tfrec\n",
      "/kaggle/input/tpu-getting-started/tfrecords-jpeg-224x224/test/00-224x224-462.tfrec\n",
      "/kaggle/input/tpu-getting-started/tfrecords-jpeg-224x224/test/01-224x224-462.tfrec\n",
      "/kaggle/input/tpu-getting-started/tfrecords-jpeg-224x224/test/12-224x224-462.tfrec\n",
      "/kaggle/input/tpu-getting-started/tfrecords-jpeg-224x224/test/14-224x224-462.tfrec\n",
      "/kaggle/input/tpu-getting-started/tfrecords-jpeg-224x224/test/03-224x224-462.tfrec\n",
      "/kaggle/input/tpu-getting-started/tfrecords-jpeg-224x224/test/02-224x224-462.tfrec\n",
      "/kaggle/input/tpu-getting-started/tfrecords-jpeg-224x224/test/11-224x224-462.tfrec\n",
      "/kaggle/input/tpu-getting-started/tfrecords-jpeg-224x224/test/13-224x224-462.tfrec\n",
      "/kaggle/input/tpu-getting-started/tfrecords-jpeg-224x224/train/13-224x224-798.tfrec\n",
      "/kaggle/input/tpu-getting-started/tfrecords-jpeg-224x224/train/11-224x224-798.tfrec\n",
      "/kaggle/input/tpu-getting-started/tfrecords-jpeg-224x224/train/05-224x224-798.tfrec\n",
      "/kaggle/input/tpu-getting-started/tfrecords-jpeg-224x224/train/00-224x224-798.tfrec\n",
      "/kaggle/input/tpu-getting-started/tfrecords-jpeg-224x224/train/02-224x224-798.tfrec\n",
      "/kaggle/input/tpu-getting-started/tfrecords-jpeg-224x224/train/14-224x224-798.tfrec\n",
      "/kaggle/input/tpu-getting-started/tfrecords-jpeg-224x224/train/06-224x224-798.tfrec\n",
      "/kaggle/input/tpu-getting-started/tfrecords-jpeg-224x224/train/10-224x224-798.tfrec\n",
      "/kaggle/input/tpu-getting-started/tfrecords-jpeg-224x224/train/01-224x224-798.tfrec\n",
      "/kaggle/input/tpu-getting-started/tfrecords-jpeg-224x224/train/03-224x224-798.tfrec\n",
      "/kaggle/input/tpu-getting-started/tfrecords-jpeg-224x224/train/08-224x224-798.tfrec\n",
      "/kaggle/input/tpu-getting-started/tfrecords-jpeg-224x224/train/09-224x224-798.tfrec\n",
      "/kaggle/input/tpu-getting-started/tfrecords-jpeg-224x224/train/15-224x224-783.tfrec\n",
      "/kaggle/input/tpu-getting-started/tfrecords-jpeg-224x224/train/07-224x224-798.tfrec\n",
      "/kaggle/input/tpu-getting-started/tfrecords-jpeg-224x224/train/04-224x224-798.tfrec\n",
      "/kaggle/input/tpu-getting-started/tfrecords-jpeg-224x224/train/12-224x224-798.tfrec\n",
      "/kaggle/input/tpu-getting-started/tfrecords-jpeg-331x331/val/05-331x331-232.tfrec\n",
      "/kaggle/input/tpu-getting-started/tfrecords-jpeg-331x331/val/08-331x331-232.tfrec\n",
      "/kaggle/input/tpu-getting-started/tfrecords-jpeg-331x331/val/01-331x331-232.tfrec\n",
      "/kaggle/input/tpu-getting-started/tfrecords-jpeg-331x331/val/03-331x331-232.tfrec\n",
      "/kaggle/input/tpu-getting-started/tfrecords-jpeg-331x331/val/13-331x331-232.tfrec\n",
      "/kaggle/input/tpu-getting-started/tfrecords-jpeg-331x331/val/10-331x331-232.tfrec\n",
      "/kaggle/input/tpu-getting-started/tfrecords-jpeg-331x331/val/07-331x331-232.tfrec\n",
      "/kaggle/input/tpu-getting-started/tfrecords-jpeg-331x331/val/04-331x331-232.tfrec\n",
      "/kaggle/input/tpu-getting-started/tfrecords-jpeg-331x331/val/14-331x331-232.tfrec\n",
      "/kaggle/input/tpu-getting-started/tfrecords-jpeg-331x331/val/15-331x331-232.tfrec\n",
      "/kaggle/input/tpu-getting-started/tfrecords-jpeg-331x331/val/12-331x331-232.tfrec\n",
      "/kaggle/input/tpu-getting-started/tfrecords-jpeg-331x331/val/11-331x331-232.tfrec\n",
      "/kaggle/input/tpu-getting-started/tfrecords-jpeg-331x331/val/02-331x331-232.tfrec\n",
      "/kaggle/input/tpu-getting-started/tfrecords-jpeg-331x331/val/00-331x331-232.tfrec\n",
      "/kaggle/input/tpu-getting-started/tfrecords-jpeg-331x331/val/06-331x331-232.tfrec\n",
      "/kaggle/input/tpu-getting-started/tfrecords-jpeg-331x331/val/09-331x331-232.tfrec\n",
      "/kaggle/input/tpu-getting-started/tfrecords-jpeg-331x331/test/14-331x331-462.tfrec\n",
      "/kaggle/input/tpu-getting-started/tfrecords-jpeg-331x331/test/13-331x331-462.tfrec\n",
      "/kaggle/input/tpu-getting-started/tfrecords-jpeg-331x331/test/03-331x331-462.tfrec\n",
      "/kaggle/input/tpu-getting-started/tfrecords-jpeg-331x331/test/05-331x331-462.tfrec\n",
      "/kaggle/input/tpu-getting-started/tfrecords-jpeg-331x331/test/09-331x331-462.tfrec\n",
      "/kaggle/input/tpu-getting-started/tfrecords-jpeg-331x331/test/04-331x331-462.tfrec\n",
      "/kaggle/input/tpu-getting-started/tfrecords-jpeg-331x331/test/01-331x331-462.tfrec\n",
      "/kaggle/input/tpu-getting-started/tfrecords-jpeg-331x331/test/11-331x331-462.tfrec\n",
      "/kaggle/input/tpu-getting-started/tfrecords-jpeg-331x331/test/07-331x331-462.tfrec\n",
      "/kaggle/input/tpu-getting-started/tfrecords-jpeg-331x331/test/08-331x331-462.tfrec\n",
      "/kaggle/input/tpu-getting-started/tfrecords-jpeg-331x331/test/00-331x331-462.tfrec\n",
      "/kaggle/input/tpu-getting-started/tfrecords-jpeg-331x331/test/02-331x331-462.tfrec\n",
      "/kaggle/input/tpu-getting-started/tfrecords-jpeg-331x331/test/15-331x331-452.tfrec\n",
      "/kaggle/input/tpu-getting-started/tfrecords-jpeg-331x331/test/10-331x331-462.tfrec\n",
      "/kaggle/input/tpu-getting-started/tfrecords-jpeg-331x331/test/12-331x331-462.tfrec\n",
      "/kaggle/input/tpu-getting-started/tfrecords-jpeg-331x331/test/06-331x331-462.tfrec\n",
      "/kaggle/input/tpu-getting-started/tfrecords-jpeg-331x331/train/15-331x331-783.tfrec\n",
      "/kaggle/input/tpu-getting-started/tfrecords-jpeg-331x331/train/02-331x331-798.tfrec\n",
      "/kaggle/input/tpu-getting-started/tfrecords-jpeg-331x331/train/14-331x331-798.tfrec\n",
      "/kaggle/input/tpu-getting-started/tfrecords-jpeg-331x331/train/04-331x331-798.tfrec\n",
      "/kaggle/input/tpu-getting-started/tfrecords-jpeg-331x331/train/08-331x331-798.tfrec\n",
      "/kaggle/input/tpu-getting-started/tfrecords-jpeg-331x331/train/12-331x331-798.tfrec\n",
      "/kaggle/input/tpu-getting-started/tfrecords-jpeg-331x331/train/03-331x331-798.tfrec\n",
      "/kaggle/input/tpu-getting-started/tfrecords-jpeg-331x331/train/05-331x331-798.tfrec\n",
      "/kaggle/input/tpu-getting-started/tfrecords-jpeg-331x331/train/00-331x331-798.tfrec\n",
      "/kaggle/input/tpu-getting-started/tfrecords-jpeg-331x331/train/06-331x331-798.tfrec\n",
      "/kaggle/input/tpu-getting-started/tfrecords-jpeg-331x331/train/07-331x331-798.tfrec\n",
      "/kaggle/input/tpu-getting-started/tfrecords-jpeg-331x331/train/09-331x331-798.tfrec\n",
      "/kaggle/input/tpu-getting-started/tfrecords-jpeg-331x331/train/10-331x331-798.tfrec\n",
      "/kaggle/input/tpu-getting-started/tfrecords-jpeg-331x331/train/01-331x331-798.tfrec\n",
      "/kaggle/input/tpu-getting-started/tfrecords-jpeg-331x331/train/13-331x331-798.tfrec\n",
      "/kaggle/input/tpu-getting-started/tfrecords-jpeg-331x331/train/11-331x331-798.tfrec\n",
      "/kaggle/input/tpu-getting-started/tfrecords-jpeg-192x192/val/05-192x192-232.tfrec\n",
      "/kaggle/input/tpu-getting-started/tfrecords-jpeg-192x192/val/07-192x192-232.tfrec\n",
      "/kaggle/input/tpu-getting-started/tfrecords-jpeg-192x192/val/15-192x192-232.tfrec\n",
      "/kaggle/input/tpu-getting-started/tfrecords-jpeg-192x192/val/08-192x192-232.tfrec\n",
      "/kaggle/input/tpu-getting-started/tfrecords-jpeg-192x192/val/06-192x192-232.tfrec\n",
      "/kaggle/input/tpu-getting-started/tfrecords-jpeg-192x192/val/00-192x192-232.tfrec\n",
      "/kaggle/input/tpu-getting-started/tfrecords-jpeg-192x192/val/11-192x192-232.tfrec\n",
      "/kaggle/input/tpu-getting-started/tfrecords-jpeg-192x192/val/04-192x192-232.tfrec\n",
      "/kaggle/input/tpu-getting-started/tfrecords-jpeg-192x192/val/09-192x192-232.tfrec\n",
      "/kaggle/input/tpu-getting-started/tfrecords-jpeg-192x192/val/02-192x192-232.tfrec\n",
      "/kaggle/input/tpu-getting-started/tfrecords-jpeg-192x192/val/10-192x192-232.tfrec\n",
      "/kaggle/input/tpu-getting-started/tfrecords-jpeg-192x192/val/12-192x192-232.tfrec\n",
      "/kaggle/input/tpu-getting-started/tfrecords-jpeg-192x192/val/14-192x192-232.tfrec\n",
      "/kaggle/input/tpu-getting-started/tfrecords-jpeg-192x192/val/13-192x192-232.tfrec\n",
      "/kaggle/input/tpu-getting-started/tfrecords-jpeg-192x192/val/03-192x192-232.tfrec\n",
      "/kaggle/input/tpu-getting-started/tfrecords-jpeg-192x192/val/01-192x192-232.tfrec\n",
      "/kaggle/input/tpu-getting-started/tfrecords-jpeg-192x192/test/06-192x192-462.tfrec\n",
      "/kaggle/input/tpu-getting-started/tfrecords-jpeg-192x192/test/12-192x192-462.tfrec\n",
      "/kaggle/input/tpu-getting-started/tfrecords-jpeg-192x192/test/08-192x192-462.tfrec\n",
      "/kaggle/input/tpu-getting-started/tfrecords-jpeg-192x192/test/07-192x192-462.tfrec\n",
      "/kaggle/input/tpu-getting-started/tfrecords-jpeg-192x192/test/00-192x192-462.tfrec\n",
      "/kaggle/input/tpu-getting-started/tfrecords-jpeg-192x192/test/03-192x192-462.tfrec\n",
      "/kaggle/input/tpu-getting-started/tfrecords-jpeg-192x192/test/13-192x192-462.tfrec\n",
      "/kaggle/input/tpu-getting-started/tfrecords-jpeg-192x192/test/05-192x192-462.tfrec\n",
      "/kaggle/input/tpu-getting-started/tfrecords-jpeg-192x192/test/01-192x192-462.tfrec\n",
      "/kaggle/input/tpu-getting-started/tfrecords-jpeg-192x192/test/14-192x192-462.tfrec\n",
      "/kaggle/input/tpu-getting-started/tfrecords-jpeg-192x192/test/10-192x192-462.tfrec\n",
      "/kaggle/input/tpu-getting-started/tfrecords-jpeg-192x192/test/04-192x192-462.tfrec\n",
      "/kaggle/input/tpu-getting-started/tfrecords-jpeg-192x192/test/15-192x192-452.tfrec\n",
      "/kaggle/input/tpu-getting-started/tfrecords-jpeg-192x192/test/09-192x192-462.tfrec\n",
      "/kaggle/input/tpu-getting-started/tfrecords-jpeg-192x192/test/11-192x192-462.tfrec\n",
      "/kaggle/input/tpu-getting-started/tfrecords-jpeg-192x192/test/02-192x192-462.tfrec\n",
      "/kaggle/input/tpu-getting-started/tfrecords-jpeg-192x192/train/06-192x192-798.tfrec\n",
      "/kaggle/input/tpu-getting-started/tfrecords-jpeg-192x192/train/11-192x192-798.tfrec\n",
      "/kaggle/input/tpu-getting-started/tfrecords-jpeg-192x192/train/12-192x192-798.tfrec\n",
      "/kaggle/input/tpu-getting-started/tfrecords-jpeg-192x192/train/03-192x192-798.tfrec\n",
      "/kaggle/input/tpu-getting-started/tfrecords-jpeg-192x192/train/09-192x192-798.tfrec\n",
      "/kaggle/input/tpu-getting-started/tfrecords-jpeg-192x192/train/08-192x192-798.tfrec\n",
      "/kaggle/input/tpu-getting-started/tfrecords-jpeg-192x192/train/04-192x192-798.tfrec\n",
      "/kaggle/input/tpu-getting-started/tfrecords-jpeg-192x192/train/05-192x192-798.tfrec\n",
      "/kaggle/input/tpu-getting-started/tfrecords-jpeg-192x192/train/14-192x192-798.tfrec\n",
      "/kaggle/input/tpu-getting-started/tfrecords-jpeg-192x192/train/07-192x192-798.tfrec\n",
      "/kaggle/input/tpu-getting-started/tfrecords-jpeg-192x192/train/13-192x192-798.tfrec\n",
      "/kaggle/input/tpu-getting-started/tfrecords-jpeg-192x192/train/15-192x192-783.tfrec\n",
      "/kaggle/input/tpu-getting-started/tfrecords-jpeg-192x192/train/02-192x192-798.tfrec\n",
      "/kaggle/input/tpu-getting-started/tfrecords-jpeg-192x192/train/10-192x192-798.tfrec\n",
      "/kaggle/input/tpu-getting-started/tfrecords-jpeg-192x192/train/01-192x192-798.tfrec\n",
      "/kaggle/input/tpu-getting-started/tfrecords-jpeg-192x192/train/00-192x192-798.tfrec\n",
      "/kaggle/input/tpu-getting-started/tfrecords-jpeg-512x512/val/02-512x512-232.tfrec\n",
      "/kaggle/input/tpu-getting-started/tfrecords-jpeg-512x512/val/12-512x512-232.tfrec\n",
      "/kaggle/input/tpu-getting-started/tfrecords-jpeg-512x512/val/09-512x512-232.tfrec\n",
      "/kaggle/input/tpu-getting-started/tfrecords-jpeg-512x512/val/00-512x512-232.tfrec\n",
      "/kaggle/input/tpu-getting-started/tfrecords-jpeg-512x512/val/13-512x512-232.tfrec\n",
      "/kaggle/input/tpu-getting-started/tfrecords-jpeg-512x512/val/03-512x512-232.tfrec\n",
      "/kaggle/input/tpu-getting-started/tfrecords-jpeg-512x512/val/14-512x512-232.tfrec\n",
      "/kaggle/input/tpu-getting-started/tfrecords-jpeg-512x512/val/04-512x512-232.tfrec\n",
      "/kaggle/input/tpu-getting-started/tfrecords-jpeg-512x512/val/10-512x512-232.tfrec\n",
      "/kaggle/input/tpu-getting-started/tfrecords-jpeg-512x512/val/05-512x512-232.tfrec\n",
      "/kaggle/input/tpu-getting-started/tfrecords-jpeg-512x512/val/08-512x512-232.tfrec\n",
      "/kaggle/input/tpu-getting-started/tfrecords-jpeg-512x512/val/11-512x512-232.tfrec\n",
      "/kaggle/input/tpu-getting-started/tfrecords-jpeg-512x512/val/07-512x512-232.tfrec\n",
      "/kaggle/input/tpu-getting-started/tfrecords-jpeg-512x512/val/15-512x512-232.tfrec\n",
      "/kaggle/input/tpu-getting-started/tfrecords-jpeg-512x512/val/01-512x512-232.tfrec\n",
      "/kaggle/input/tpu-getting-started/tfrecords-jpeg-512x512/val/06-512x512-232.tfrec\n",
      "/kaggle/input/tpu-getting-started/tfrecords-jpeg-512x512/test/15-512x512-452.tfrec\n",
      "/kaggle/input/tpu-getting-started/tfrecords-jpeg-512x512/test/02-512x512-462.tfrec\n",
      "/kaggle/input/tpu-getting-started/tfrecords-jpeg-512x512/test/03-512x512-462.tfrec\n",
      "/kaggle/input/tpu-getting-started/tfrecords-jpeg-512x512/test/01-512x512-462.tfrec\n",
      "/kaggle/input/tpu-getting-started/tfrecords-jpeg-512x512/test/00-512x512-462.tfrec\n",
      "/kaggle/input/tpu-getting-started/tfrecords-jpeg-512x512/test/13-512x512-462.tfrec\n",
      "/kaggle/input/tpu-getting-started/tfrecords-jpeg-512x512/test/07-512x512-462.tfrec\n",
      "/kaggle/input/tpu-getting-started/tfrecords-jpeg-512x512/test/10-512x512-462.tfrec\n",
      "/kaggle/input/tpu-getting-started/tfrecords-jpeg-512x512/test/04-512x512-462.tfrec\n",
      "/kaggle/input/tpu-getting-started/tfrecords-jpeg-512x512/test/14-512x512-462.tfrec\n",
      "/kaggle/input/tpu-getting-started/tfrecords-jpeg-512x512/test/09-512x512-462.tfrec\n",
      "/kaggle/input/tpu-getting-started/tfrecords-jpeg-512x512/test/08-512x512-462.tfrec\n",
      "/kaggle/input/tpu-getting-started/tfrecords-jpeg-512x512/test/11-512x512-462.tfrec\n",
      "/kaggle/input/tpu-getting-started/tfrecords-jpeg-512x512/test/05-512x512-462.tfrec\n",
      "/kaggle/input/tpu-getting-started/tfrecords-jpeg-512x512/test/06-512x512-462.tfrec\n",
      "/kaggle/input/tpu-getting-started/tfrecords-jpeg-512x512/test/12-512x512-462.tfrec\n",
      "/kaggle/input/tpu-getting-started/tfrecords-jpeg-512x512/train/05-512x512-798.tfrec\n",
      "/kaggle/input/tpu-getting-started/tfrecords-jpeg-512x512/train/00-512x512-798.tfrec\n",
      "/kaggle/input/tpu-getting-started/tfrecords-jpeg-512x512/train/11-512x512-798.tfrec\n",
      "/kaggle/input/tpu-getting-started/tfrecords-jpeg-512x512/train/15-512x512-783.tfrec\n",
      "/kaggle/input/tpu-getting-started/tfrecords-jpeg-512x512/train/10-512x512-798.tfrec\n",
      "/kaggle/input/tpu-getting-started/tfrecords-jpeg-512x512/train/12-512x512-798.tfrec\n",
      "/kaggle/input/tpu-getting-started/tfrecords-jpeg-512x512/train/01-512x512-798.tfrec\n",
      "/kaggle/input/tpu-getting-started/tfrecords-jpeg-512x512/train/14-512x512-798.tfrec\n",
      "/kaggle/input/tpu-getting-started/tfrecords-jpeg-512x512/train/13-512x512-798.tfrec\n",
      "/kaggle/input/tpu-getting-started/tfrecords-jpeg-512x512/train/07-512x512-798.tfrec\n",
      "/kaggle/input/tpu-getting-started/tfrecords-jpeg-512x512/train/03-512x512-798.tfrec\n",
      "/kaggle/input/tpu-getting-started/tfrecords-jpeg-512x512/train/06-512x512-798.tfrec\n",
      "/kaggle/input/tpu-getting-started/tfrecords-jpeg-512x512/train/08-512x512-798.tfrec\n",
      "/kaggle/input/tpu-getting-started/tfrecords-jpeg-512x512/train/02-512x512-798.tfrec\n",
      "/kaggle/input/tpu-getting-started/tfrecords-jpeg-512x512/train/09-512x512-798.tfrec\n",
      "/kaggle/input/tpu-getting-started/tfrecords-jpeg-512x512/train/04-512x512-798.tfrec\n"
     ]
    }
   ],
   "source": [
    "# This Python 3 environment comes with many helpful analytics libraries installed\n",
    "# It is defined by the kaggle/python Docker image: https://github.com/kaggle/docker-python\n",
    "# For example, here's several helpful packages to load\n",
    "\n",
    "import numpy as np # linear algebra\n",
    "import pandas as pd # data processing, CSV file I/O (e.g. pd.read_csv)\n",
    "\n",
    "# Input data files are available in the read-only \"../input/\" directory\n",
    "# For example, running this (by clicking run or pressing Shift+Enter) will list all files under the input directory\n",
    "\n",
    "import os\n",
    "for dirname, _, filenames in os.walk('/kaggle/input'):\n",
    "    for filename in filenames:\n",
    "        print(os.path.join(dirname, filename))\n",
    "\n",
    "# You can write up to 20GB to the current directory (/kaggle/working/) that gets preserved as output when you create a version using \"Save & Run All\" \n",
    "# You can also write temporary files to /kaggle/temp/, but they won't be saved outside of the current session"
   ]
  },
  {
   "cell_type": "code",
   "execution_count": 2,
   "id": "76d4b46e",
   "metadata": {
    "execution": {
     "iopub.execute_input": "2022-09-22T02:24:12.628224Z",
     "iopub.status.busy": "2022-09-22T02:24:12.627955Z",
     "iopub.status.idle": "2022-09-22T02:24:16.565174Z",
     "shell.execute_reply": "2022-09-22T02:24:16.564222Z"
    },
    "papermill": {
     "duration": 3.945675,
     "end_time": "2022-09-22T02:24:16.567722",
     "exception": false,
     "start_time": "2022-09-22T02:24:12.622047",
     "status": "completed"
    },
    "tags": []
   },
   "outputs": [],
   "source": [
    "import tensorflow as tf\n",
    "import numpy as np\n",
    "import os\n",
    "import glob\n",
    "import warnings\n",
    "\n",
    "warnings.filterwarnings('ignore')\n",
    "ROOT_DIR = '/kaggle/input/tpu-getting-started'"
   ]
  },
  {
   "cell_type": "code",
   "execution_count": 3,
   "id": "e3c497b0",
   "metadata": {
    "execution": {
     "iopub.execute_input": "2022-09-22T02:24:16.580897Z",
     "iopub.status.busy": "2022-09-22T02:24:16.579188Z",
     "iopub.status.idle": "2022-09-22T02:24:16.587741Z",
     "shell.execute_reply": "2022-09-22T02:24:16.586712Z"
    },
    "papermill": {
     "duration": 0.016728,
     "end_time": "2022-09-22T02:24:16.589800",
     "exception": false,
     "start_time": "2022-09-22T02:24:16.573072",
     "status": "completed"
    },
    "tags": []
   },
   "outputs": [],
   "source": [
    "TRAIN_DIRS = glob.glob(str(ROOT_DIR + '/*-jpeg-224*/train/*'))\n",
    "VAL_DIRS = glob.glob(str(ROOT_DIR + '/*-jpeg-224*/val/*'))\n",
    "TEST_DIRS = glob.glob(str(ROOT_DIR + '/*-jpeg-224*/test/*'))"
   ]
  },
  {
   "cell_type": "code",
   "execution_count": 4,
   "id": "3af91afe",
   "metadata": {
    "execution": {
     "iopub.execute_input": "2022-09-22T02:24:16.602120Z",
     "iopub.status.busy": "2022-09-22T02:24:16.600714Z",
     "iopub.status.idle": "2022-09-22T02:24:28.708928Z",
     "shell.execute_reply": "2022-09-22T02:24:28.707922Z"
    },
    "papermill": {
     "duration": 12.116733,
     "end_time": "2022-09-22T02:24:28.711702",
     "exception": false,
     "start_time": "2022-09-22T02:24:16.594969",
     "status": "completed"
    },
    "tags": []
   },
   "outputs": [
    {
     "name": "stderr",
     "output_type": "stream",
     "text": [
      "2022-09-22 02:24:16.665660: I tensorflow/stream_executor/cuda/cuda_gpu_executor.cc:937] successful NUMA node read from SysFS had negative value (-1), but there must be at least one NUMA node, so returning NUMA node zero\n",
      "2022-09-22 02:24:16.746388: I tensorflow/stream_executor/cuda/cuda_gpu_executor.cc:937] successful NUMA node read from SysFS had negative value (-1), but there must be at least one NUMA node, so returning NUMA node zero\n",
      "2022-09-22 02:24:16.747168: I tensorflow/stream_executor/cuda/cuda_gpu_executor.cc:937] successful NUMA node read from SysFS had negative value (-1), but there must be at least one NUMA node, so returning NUMA node zero\n",
      "2022-09-22 02:24:16.750156: I tensorflow/core/platform/cpu_feature_guard.cc:142] This TensorFlow binary is optimized with oneAPI Deep Neural Network Library (oneDNN) to use the following CPU instructions in performance-critical operations:  AVX2 AVX512F FMA\n",
      "To enable them in other operations, rebuild TensorFlow with the appropriate compiler flags.\n",
      "2022-09-22 02:24:16.750462: I tensorflow/stream_executor/cuda/cuda_gpu_executor.cc:937] successful NUMA node read from SysFS had negative value (-1), but there must be at least one NUMA node, so returning NUMA node zero\n",
      "2022-09-22 02:24:16.751225: I tensorflow/stream_executor/cuda/cuda_gpu_executor.cc:937] successful NUMA node read from SysFS had negative value (-1), but there must be at least one NUMA node, so returning NUMA node zero\n",
      "2022-09-22 02:24:16.751888: I tensorflow/stream_executor/cuda/cuda_gpu_executor.cc:937] successful NUMA node read from SysFS had negative value (-1), but there must be at least one NUMA node, so returning NUMA node zero\n",
      "2022-09-22 02:24:18.812220: I tensorflow/stream_executor/cuda/cuda_gpu_executor.cc:937] successful NUMA node read from SysFS had negative value (-1), but there must be at least one NUMA node, so returning NUMA node zero\n",
      "2022-09-22 02:24:18.813119: I tensorflow/stream_executor/cuda/cuda_gpu_executor.cc:937] successful NUMA node read from SysFS had negative value (-1), but there must be at least one NUMA node, so returning NUMA node zero\n",
      "2022-09-22 02:24:18.813801: I tensorflow/stream_executor/cuda/cuda_gpu_executor.cc:937] successful NUMA node read from SysFS had negative value (-1), but there must be at least one NUMA node, so returning NUMA node zero\n",
      "2022-09-22 02:24:18.814425: I tensorflow/core/common_runtime/gpu/gpu_device.cc:1510] Created device /job:localhost/replica:0/task:0/device:GPU:0 with 15401 MB memory:  -> device: 0, name: Tesla P100-PCIE-16GB, pci bus id: 0000:00:04.0, compute capability: 6.0\n",
      "2022-09-22 02:24:19.234148: I tensorflow/compiler/mlir/mlir_graph_optimization_pass.cc:185] None of the MLIR Optimization Passes are enabled (registered 2)\n"
     ]
    },
    {
     "data": {
      "text/plain": [
       "(12753, 3712, 7382)"
      ]
     },
     "execution_count": 4,
     "metadata": {},
     "output_type": "execute_result"
    }
   ],
   "source": [
    "TRAIN_LEN = sum(1 for _ in tf.data.TFRecordDataset(TRAIN_DIRS, num_parallel_reads=tf.data.AUTOTUNE))\n",
    "VAL_LEN = sum(1 for _ in tf.data.TFRecordDataset(VAL_DIRS, num_parallel_reads=tf.data.AUTOTUNE))\n",
    "TEST_LEN = sum(1 for _ in tf.data.TFRecordDataset(TEST_DIRS, num_parallel_reads=tf.data.AUTOTUNE))\n",
    "TRAIN_LEN, VAL_LEN, TEST_LEN"
   ]
  },
  {
   "cell_type": "code",
   "execution_count": 5,
   "id": "18c206e6",
   "metadata": {
    "execution": {
     "iopub.execute_input": "2022-09-22T02:24:28.730014Z",
     "iopub.status.busy": "2022-09-22T02:24:28.729669Z",
     "iopub.status.idle": "2022-09-22T02:24:28.742817Z",
     "shell.execute_reply": "2022-09-22T02:24:28.741580Z"
    },
    "papermill": {
     "duration": 0.025372,
     "end_time": "2022-09-22T02:24:28.745742",
     "exception": false,
     "start_time": "2022-09-22T02:24:28.720370",
     "status": "completed"
    },
    "tags": []
   },
   "outputs": [],
   "source": [
    "CLASSES = ['pink primrose',    'hard-leaved pocket orchid', 'canterbury bells', 'sweet pea',     'wild geranium',     'tiger lily',           'moon orchid',              'bird of paradise', 'monkshood',        'globe thistle',         # 00 - 09\n",
    "           'snapdragon',       \"colt's foot\",               'king protea',      'spear thistle', 'yellow iris',       'globe-flower',         'purple coneflower',        'peruvian lily',    'balloon flower',   'giant white arum lily', # 10 - 19\n",
    "           'fire lily',        'pincushion flower',         'fritillary',       'red ginger',    'grape hyacinth',    'corn poppy',           'prince of wales feathers', 'stemless gentian', 'artichoke',        'sweet william',         # 20 - 29\n",
    "           'carnation',        'garden phlox',              'love in the mist', 'cosmos',        'alpine sea holly',  'ruby-lipped cattleya', 'cape flower',              'great masterwort', 'siam tulip',       'lenten rose',           # 30 - 39\n",
    "           'barberton daisy',  'daffodil',                  'sword lily',       'poinsettia',    'bolero deep blue',  'wallflower',           'marigold',                 'buttercup',        'daisy',            'common dandelion',      # 40 - 49\n",
    "           'petunia',          'wild pansy',                'primula',          'sunflower',     'lilac hibiscus',    'bishop of llandaff',   'gaura',                    'geranium',         'orange dahlia',    'pink-yellow dahlia',    # 50 - 59\n",
    "           'cautleya spicata', 'japanese anemone',          'black-eyed susan', 'silverbush',    'californian poppy', 'osteospermum',         'spring crocus',            'iris',             'windflower',       'tree poppy',            # 60 - 69\n",
    "           'gazania',          'azalea',                    'water lily',       'rose',          'thorn apple',       'morning glory',        'passion flower',           'lotus',            'toad lily',        'anthurium',             # 70 - 79\n",
    "           'frangipani',       'clematis',                  'hibiscus',         'columbine',     'desert-rose',       'tree mallow',          'magnolia',                 'cyclamen ',        'watercress',       'canna lily',            # 80 - 89\n",
    "           'hippeastrum ',     'bee balm',                  'pink quill',       'foxglove',      'bougainvillea',     'camellia',             'mallow',                   'mexican petunia',  'bromelia',         'blanket flower',        # 90 - 99\n",
    "           'trumpet creeper',  'blackberry lily',           'common tulip',     'wild rose'] "
   ]
  },
  {
   "cell_type": "markdown",
   "id": "5c4113b7",
   "metadata": {
    "papermill": {
     "duration": 0.007194,
     "end_time": "2022-09-22T02:24:28.767147",
     "exception": false,
     "start_time": "2022-09-22T02:24:28.759953",
     "status": "completed"
    },
    "tags": []
   },
   "source": [
    "## Explore Data"
   ]
  },
  {
   "cell_type": "code",
   "execution_count": 6,
   "id": "04c351c8",
   "metadata": {
    "execution": {
     "iopub.execute_input": "2022-09-22T02:24:28.783759Z",
     "iopub.status.busy": "2022-09-22T02:24:28.783471Z",
     "iopub.status.idle": "2022-09-22T02:24:29.405222Z",
     "shell.execute_reply": "2022-09-22T02:24:29.404129Z"
    },
    "papermill": {
     "duration": 0.631057,
     "end_time": "2022-09-22T02:24:29.408251",
     "exception": false,
     "start_time": "2022-09-22T02:24:28.777194",
     "status": "completed"
    },
    "tags": []
   },
   "outputs": [],
   "source": [
    "IMAGE_SHAPE = (224, 224, 3)\n",
    "\n",
    "def tfrecord(example):\n",
    "    TFREC_FORMAT = {\n",
    "        'image': tf.io.FixedLenFeature([], tf.string), \n",
    "        'class': tf.io.FixedLenFeature([], tf.int64)\n",
    "    }\n",
    "    example = tf.io.parse_single_example(example, TFREC_FORMAT)\n",
    "    label = tf.cast(example['class'], tf.int32)\n",
    "    return label\n",
    "\n",
    "\n",
    "dataset = tf.data.TFRecordDataset(TRAIN_DIRS, num_parallel_reads=tf.data.AUTOTUNE)\n",
    "dataset = dataset.map(tfrecord, num_parallel_calls=tf.data.AUTOTUNE)\n",
    "dataset = dataset.batch(TRAIN_LEN)\n",
    "labels = next(dataset.as_numpy_iterator())"
   ]
  },
  {
   "cell_type": "code",
   "execution_count": 7,
   "id": "bdadfc01",
   "metadata": {
    "execution": {
     "iopub.execute_input": "2022-09-22T02:24:29.421109Z",
     "iopub.status.busy": "2022-09-22T02:24:29.420771Z",
     "iopub.status.idle": "2022-09-22T02:24:29.789450Z",
     "shell.execute_reply": "2022-09-22T02:24:29.788501Z"
    },
    "papermill": {
     "duration": 0.37744,
     "end_time": "2022-09-22T02:24:29.791621",
     "exception": false,
     "start_time": "2022-09-22T02:24:29.414181",
     "status": "completed"
    },
    "tags": []
   },
   "outputs": [
    {
     "data": {
      "image/png": "[encoded data removed]",
      "text/plain": [
       "<Figure size 432x288 with 1 Axes>"
      ]
     },
     "metadata": {
      "needs_background": "light"
     },
     "output_type": "display_data"
    }
   ],
   "source": [
    "from collections import Counter\n",
    "import matplotlib.pyplot as plt\n",
    "\n",
    "labels_dic = Counter(labels)\n",
    "values = [labels_dic[i] for i in range(104)]\n",
    "\n",
    "plt.bar(range(104), values)\n",
    "plt.show()"
   ]
  },
  {
   "cell_type": "markdown",
   "id": "c5fea0f3",
   "metadata": {
    "execution": {
     "iopub.execute_input": "2022-09-22T01:20:34.130277Z",
     "iopub.status.busy": "2022-09-22T01:20:34.129558Z",
     "iopub.status.idle": "2022-09-22T01:20:34.998216Z",
     "shell.execute_reply": "2022-09-22T01:20:34.997230Z",
     "shell.execute_reply.started": "2022-09-22T01:20:34.130230Z"
    },
    "papermill": {
     "duration": 0.005301,
     "end_time": "2022-09-22T02:24:29.802610",
     "exception": false,
     "start_time": "2022-09-22T02:24:29.797309",
     "status": "completed"
    },
    "tags": []
   },
   "source": [
    "### class imbalance => no problem at accuracy problem"
   ]
  },
  {
   "cell_type": "markdown",
   "id": "4cd96b13",
   "metadata": {
    "papermill": {
     "duration": 0.005157,
     "end_time": "2022-09-22T02:24:29.813077",
     "exception": false,
     "start_time": "2022-09-22T02:24:29.807920",
     "status": "completed"
    },
    "tags": []
   },
   "source": [
    "## Get Dataset"
   ]
  },
  {
   "cell_type": "code",
   "execution_count": 8,
   "id": "b25c14dc",
   "metadata": {
    "execution": {
     "iopub.execute_input": "2022-09-22T02:24:29.826462Z",
     "iopub.status.busy": "2022-09-22T02:24:29.825783Z",
     "iopub.status.idle": "2022-09-22T02:24:29.838413Z",
     "shell.execute_reply": "2022-09-22T02:24:29.837625Z"
    },
    "papermill": {
     "duration": 0.021889,
     "end_time": "2022-09-22T02:24:29.840294",
     "exception": false,
     "start_time": "2022-09-22T02:24:29.818405",
     "status": "completed"
    },
    "tags": []
   },
   "outputs": [],
   "source": [
    "IMAGE_SHAPE = (224, 224, 3)\n",
    "\n",
    "def augment(image, label):\n",
    "    image = tf.image.random_brightness(image, max_delta=0.2)\n",
    "    image = tf.image.random_contrast(image, lower=0.3, upper=1.7)\n",
    "    image = tf.image.random_hue(image, max_delta=0.05)\n",
    "    image = tf.image.random_saturation(image, 0.7, 1.3)\n",
    "    image = tf.image.random_flip_left_right(image)\n",
    "    image = tf.image.random_flip_up_down(image)\n",
    "    return image, label\n",
    "\n",
    "def train_tfrecord(example):\n",
    "    TFREC_FORMAT = {\n",
    "        'image': tf.io.FixedLenFeature([], tf.string), \n",
    "        'class': tf.io.FixedLenFeature([], tf.int64)\n",
    "    }\n",
    "    example = tf.io.parse_single_example(example, TFREC_FORMAT)\n",
    "    image = tf.image.decode_jpeg(example['image'], channels=3)\n",
    "    image = tf.reshape(image, IMAGE_SHAPE)\n",
    "    image = tf.cast(image, tf.float32) / 255.0\n",
    "    label = tf.cast(example['class'], tf.int32)\n",
    "    label = tf.one_hot(label, depth=len(CLASSES))\n",
    "    return image, label\n",
    "\n",
    "def test_tfrecord(example):\n",
    "    TFREC_FORMAT = {\n",
    "        'image': tf.io.FixedLenFeature([], tf.string), \n",
    "        'id': tf.io.FixedLenFeature([], tf.string)\n",
    "    }\n",
    "    example = tf.io.parse_single_example(example, TFREC_FORMAT)\n",
    "    image = tf.image.decode_jpeg(example['image'], channels=3)\n",
    "    image = tf.reshape(image, IMAGE_SHAPE)\n",
    "    image = tf.cast(image, tf.float32) / 255.0\n",
    "    idn = example['id']\n",
    "    return image, idn\n",
    "\n",
    "def load_dataset(dirs, train=True, label=True, batch_size=32):\n",
    "    dataset = tf.data.TFRecordDataset(dirs, num_parallel_reads=tf.data.AUTOTUNE)\n",
    "    options = tf.data.Options()\n",
    "    options.experimental_deterministic = False if train else True\n",
    "    dataset = dataset.with_options(options)\n",
    "    dataset = dataset.map(train_tfrecord if label else test_tfrecord, \n",
    "                          num_parallel_calls=tf.data.AUTOTUNE)\n",
    "    if train:\n",
    "        dataset = dataset.map(augment, num_parallel_calls=tf.data.AUTOTUNE)\n",
    "        dataset = dataset.repeat().shuffle(2048)\n",
    "    dataset = dataset.batch(batch_size)\n",
    "    dataset = dataset.prefetch(tf.data.AUTOTUNE)\n",
    "    return dataset"
   ]
  },
  {
   "cell_type": "code",
   "execution_count": 9,
   "id": "e861c993",
   "metadata": {
    "execution": {
     "iopub.execute_input": "2022-09-22T02:24:29.852380Z",
     "iopub.status.busy": "2022-09-22T02:24:29.852123Z",
     "iopub.status.idle": "2022-09-22T02:24:30.280804Z",
     "shell.execute_reply": "2022-09-22T02:24:30.279653Z"
    },
    "papermill": {
     "duration": 0.43778,
     "end_time": "2022-09-22T02:24:30.283392",
     "exception": false,
     "start_time": "2022-09-22T02:24:29.845612",
     "status": "completed"
    },
    "tags": []
   },
   "outputs": [
    {
     "name": "stdout",
     "output_type": "stream",
     "text": [
      "<PrefetchDataset shapes: ((None, 224, 224, 3), (None, 104)), types: (tf.float32, tf.float32)>\n",
      "<PrefetchDataset shapes: ((None, 224, 224, 3), (None, 104)), types: (tf.float32, tf.float32)>\n",
      "<PrefetchDataset shapes: ((None, 224, 224, 3), (None,)), types: (tf.float32, tf.string)>\n"
     ]
    }
   ],
   "source": [
    "BATCH_SIZE = 16\n",
    "train_dataset = load_dataset(TRAIN_DIRS, train=True, label=True, batch_size=BATCH_SIZE)\n",
    "val_dataset = load_dataset(VAL_DIRS, train=False, label=True, batch_size=BATCH_SIZE)\n",
    "test_dataset = load_dataset(TEST_DIRS, train=False, label=False, batch_size=BATCH_SIZE)\n",
    "\n",
    "print(train_dataset)\n",
    "print(val_dataset)\n",
    "print(test_dataset)"
   ]
  },
  {
   "cell_type": "markdown",
   "id": "6546bbfc",
   "metadata": {
    "papermill": {
     "duration": 0.005272,
     "end_time": "2022-09-22T02:24:30.294661",
     "exception": false,
     "start_time": "2022-09-22T02:24:30.289389",
     "status": "completed"
    },
    "tags": []
   },
   "source": [
    "## Model"
   ]
  },
  {
   "cell_type": "code",
   "execution_count": 10,
   "id": "e05f0c7b",
   "metadata": {
    "execution": {
     "iopub.execute_input": "2022-09-22T02:24:30.307016Z",
     "iopub.status.busy": "2022-09-22T02:24:30.306442Z",
     "iopub.status.idle": "2022-09-22T02:24:32.036730Z",
     "shell.execute_reply": "2022-09-22T02:24:32.035720Z"
    },
    "papermill": {
     "duration": 1.739322,
     "end_time": "2022-09-22T02:24:32.039403",
     "exception": false,
     "start_time": "2022-09-22T02:24:30.300081",
     "status": "completed"
    },
    "tags": []
   },
   "outputs": [
    {
     "name": "stdout",
     "output_type": "stream",
     "text": [
      "Downloading data from https://storage.googleapis.com/tensorflow/keras-applications/vgg16/vgg16_weights_tf_dim_ordering_tf_kernels_notop.h5\n",
      "58892288/58889256 [==============================] - 0s 0us/step\n",
      "58900480/58889256 [==============================] - 0s 0us/step\n"
     ]
    }
   ],
   "source": [
    "pretrained_model = tf.keras.applications.VGG16(\n",
    "        weights='imagenet',\n",
    "        include_top=False ,\n",
    "        input_shape=[224, 224, 3]\n",
    "    )\n",
    "pretrained_model.trainable = False\n",
    "    \n",
    "model = tf.keras.Sequential([\n",
    "    pretrained_model,\n",
    "    tf.keras.layers.GlobalAveragePooling2D(),\n",
    "    tf.keras.layers.Dense(len(CLASSES))\n",
    "])"
   ]
  },
  {
   "cell_type": "code",
   "execution_count": 11,
   "id": "ca8ed710",
   "metadata": {
    "execution": {
     "iopub.execute_input": "2022-09-22T02:24:32.053056Z",
     "iopub.status.busy": "2022-09-22T02:24:32.052756Z",
     "iopub.status.idle": "2022-09-22T02:24:32.222934Z",
     "shell.execute_reply": "2022-09-22T02:24:32.221307Z"
    },
    "papermill": {
     "duration": 0.18214,
     "end_time": "2022-09-22T02:24:32.227874",
     "exception": false,
     "start_time": "2022-09-22T02:24:32.045734",
     "status": "completed"
    },
    "tags": []
   },
   "outputs": [
    {
     "name": "stdout",
     "output_type": "stream",
     "text": [
      "Model: \"sequential\"\n",
      "_________________________________________________________________\n",
      "Layer (type)                 Output Shape              Param #   \n",
      "=================================================================\n",
      "vgg16 (Functional)           (None, 7, 7, 512)         14714688  \n",
      "_________________________________________________________________\n",
      "global_average_pooling2d (Gl (None, 512)               0         \n",
      "_________________________________________________________________\n",
      "dense (Dense)                (None, 104)               53352     \n",
      "=================================================================\n",
      "Total params: 14,768,040\n",
      "Trainable params: 53,352\n",
      "Non-trainable params: 14,714,688\n",
      "_________________________________________________________________\n"
     ]
    }
   ],
   "source": [
    "import tensorflow_addons as tfa\n",
    "lr_schedule = tf.keras.optimizers.schedules.ExponentialDecay(\n",
    "    0.001,\n",
    "    decay_steps=100000,\n",
    "    decay_rate=0.96,\n",
    "    staircase=True)\n",
    "model.compile(optimizer=tf.keras.optimizers.Adam(learning_rate=lr_schedule), \n",
    "             loss=tf.keras.losses.CategoricalCrossentropy(from_logits=True), \n",
    "             metrics=['accuracy', tfa.metrics.F1Score(num_classes=len(CLASSES), average='macro')])\n",
    "model.summary()"
   ]
  },
  {
   "cell_type": "markdown",
   "id": "7f68d556",
   "metadata": {
    "papermill": {
     "duration": 0.005802,
     "end_time": "2022-09-22T02:24:32.245044",
     "exception": false,
     "start_time": "2022-09-22T02:24:32.239242",
     "status": "completed"
    },
    "tags": []
   },
   "source": [
    "## Train"
   ]
  },
  {
   "cell_type": "code",
   "execution_count": 12,
   "id": "8703476e",
   "metadata": {
    "execution": {
     "iopub.execute_input": "2022-09-22T02:24:32.258347Z",
     "iopub.status.busy": "2022-09-22T02:24:32.258061Z",
     "iopub.status.idle": "2022-09-22T03:25:55.929611Z",
     "shell.execute_reply": "2022-09-22T03:25:55.928645Z"
    },
    "papermill": {
     "duration": 3683.681064,
     "end_time": "2022-09-22T03:25:55.932148",
     "exception": false,
     "start_time": "2022-09-22T02:24:32.251084",
     "status": "completed"
    },
    "tags": []
   },
   "outputs": [
    {
     "name": "stdout",
     "output_type": "stream",
     "text": [
      "Epoch 1/200\n"
     ]
    },
    {
     "name": "stderr",
     "output_type": "stream",
     "text": [
      "2022-09-22 02:24:39.161164: I tensorflow/stream_executor/cuda/cuda_dnn.cc:369] Loaded cuDNN version 8005\n"
     ]
    },
    {
     "name": "stdout",
     "output_type": "stream",
     "text": [
      "797/797 [==============================] - 56s 54ms/step - loss: 3.6802 - accuracy: 0.1764 - f1_score: 0.0374 - val_loss: 3.1708 - val_accuracy: 0.2581 - val_f1_score: 0.0684\n",
      "Epoch 2/200\n",
      "797/797 [==============================] - 40s 50ms/step - loss: 3.0455 - accuracy: 0.2947 - f1_score: 0.1232 - val_loss: 2.7391 - val_accuracy: 0.3551 - val_f1_score: 0.1684\n",
      "Epoch 3/200\n",
      "797/797 [==============================] - 40s 50ms/step - loss: 2.7216 - accuracy: 0.3650 - f1_score: 0.2082 - val_loss: 2.4807 - val_accuracy: 0.4221 - val_f1_score: 0.2633\n",
      "Epoch 4/200\n",
      "797/797 [==============================] - 40s 50ms/step - loss: 2.4932 - accuracy: 0.4146 - f1_score: 0.2723 - val_loss: 2.2830 - val_accuracy: 0.4650 - val_f1_score: 0.3071\n",
      "Epoch 5/200\n",
      "797/797 [==============================] - 39s 49ms/step - loss: 2.3551 - accuracy: 0.4410 - f1_score: 0.3224 - val_loss: 2.1532 - val_accuracy: 0.4933 - val_f1_score: 0.3539\n",
      "Epoch 6/200\n",
      "797/797 [==============================] - 38s 48ms/step - loss: 2.2307 - accuracy: 0.4711 - f1_score: 0.3592 - val_loss: 2.0475 - val_accuracy: 0.5224 - val_f1_score: 0.4106\n",
      "Epoch 7/200\n",
      "797/797 [==============================] - 39s 49ms/step - loss: 2.1307 - accuracy: 0.4931 - f1_score: 0.4030 - val_loss: 1.9531 - val_accuracy: 0.5337 - val_f1_score: 0.4462\n",
      "Epoch 8/200\n",
      "797/797 [==============================] - 36s 46ms/step - loss: 2.0465 - accuracy: 0.5085 - f1_score: 0.4266 - val_loss: 1.8877 - val_accuracy: 0.5517 - val_f1_score: 0.4638\n",
      "Epoch 9/200\n",
      "797/797 [==============================] - 37s 47ms/step - loss: 1.9714 - accuracy: 0.5191 - f1_score: 0.4541 - val_loss: 1.8354 - val_accuracy: 0.5585 - val_f1_score: 0.4819\n",
      "Epoch 10/200\n",
      "797/797 [==============================] - 37s 46ms/step - loss: 1.9230 - accuracy: 0.5383 - f1_score: 0.4748 - val_loss: 1.7871 - val_accuracy: 0.5700 - val_f1_score: 0.5013\n",
      "Epoch 11/200\n",
      "797/797 [==============================] - 37s 46ms/step - loss: 1.8691 - accuracy: 0.5455 - f1_score: 0.4978 - val_loss: 1.7460 - val_accuracy: 0.5776 - val_f1_score: 0.5184\n",
      "Epoch 12/200\n",
      "797/797 [==============================] - 38s 48ms/step - loss: 1.8170 - accuracy: 0.5583 - f1_score: 0.5288 - val_loss: 1.7032 - val_accuracy: 0.5789 - val_f1_score: 0.5347\n",
      "Epoch 13/200\n",
      "797/797 [==============================] - 37s 46ms/step - loss: 1.8011 - accuracy: 0.5654 - f1_score: 0.5256 - val_loss: 1.6671 - val_accuracy: 0.5981 - val_f1_score: 0.5588\n",
      "Epoch 14/200\n",
      "797/797 [==============================] - 36s 45ms/step - loss: 1.7394 - accuracy: 0.5718 - f1_score: 0.5405 - val_loss: 1.6240 - val_accuracy: 0.6107 - val_f1_score: 0.5749\n",
      "Epoch 15/200\n",
      "797/797 [==============================] - 36s 46ms/step - loss: 1.7122 - accuracy: 0.5789 - f1_score: 0.5576 - val_loss: 1.5993 - val_accuracy: 0.6140 - val_f1_score: 0.5792\n",
      "Epoch 16/200\n",
      "797/797 [==============================] - 36s 45ms/step - loss: 1.6885 - accuracy: 0.5874 - f1_score: 0.5654 - val_loss: 1.5823 - val_accuracy: 0.6212 - val_f1_score: 0.5748\n",
      "Epoch 17/200\n",
      "797/797 [==============================] - 37s 46ms/step - loss: 1.6526 - accuracy: 0.5910 - f1_score: 0.5711 - val_loss: 1.5583 - val_accuracy: 0.6131 - val_f1_score: 0.5781\n",
      "Epoch 18/200\n",
      "797/797 [==============================] - 36s 45ms/step - loss: 1.6137 - accuracy: 0.6007 - f1_score: 0.5811 - val_loss: 1.5273 - val_accuracy: 0.6250 - val_f1_score: 0.5869\n",
      "Epoch 19/200\n",
      "797/797 [==============================] - 37s 46ms/step - loss: 1.5951 - accuracy: 0.6030 - f1_score: 0.5895 - val_loss: 1.5115 - val_accuracy: 0.6325 - val_f1_score: 0.5986\n",
      "Epoch 20/200\n",
      "797/797 [==============================] - 37s 46ms/step - loss: 1.5797 - accuracy: 0.6058 - f1_score: 0.5983 - val_loss: 1.4983 - val_accuracy: 0.6369 - val_f1_score: 0.6094\n",
      "Epoch 21/200\n",
      "797/797 [==============================] - 36s 45ms/step - loss: 1.5610 - accuracy: 0.6061 - f1_score: 0.5986 - val_loss: 1.4810 - val_accuracy: 0.6371 - val_f1_score: 0.6165\n",
      "Epoch 22/200\n",
      "797/797 [==============================] - 36s 45ms/step - loss: 1.5431 - accuracy: 0.6146 - f1_score: 0.6074 - val_loss: 1.4551 - val_accuracy: 0.6479 - val_f1_score: 0.6232\n",
      "Epoch 23/200\n",
      "797/797 [==============================] - 36s 45ms/step - loss: 1.5147 - accuracy: 0.6205 - f1_score: 0.6176 - val_loss: 1.4511 - val_accuracy: 0.6460 - val_f1_score: 0.6190\n",
      "Epoch 24/200\n",
      "797/797 [==============================] - 36s 45ms/step - loss: 1.5050 - accuracy: 0.6228 - f1_score: 0.6236 - val_loss: 1.4264 - val_accuracy: 0.6492 - val_f1_score: 0.6294\n",
      "Epoch 25/200\n",
      "797/797 [==============================] - 36s 46ms/step - loss: 1.4889 - accuracy: 0.6263 - f1_score: 0.6290 - val_loss: 1.4294 - val_accuracy: 0.6460 - val_f1_score: 0.6206\n",
      "Epoch 26/200\n",
      "797/797 [==============================] - 37s 46ms/step - loss: 1.4739 - accuracy: 0.6287 - f1_score: 0.6261 - val_loss: 1.4040 - val_accuracy: 0.6603 - val_f1_score: 0.6371\n",
      "Epoch 27/200\n",
      "797/797 [==============================] - 36s 46ms/step - loss: 1.4420 - accuracy: 0.6387 - f1_score: 0.6400 - val_loss: 1.4030 - val_accuracy: 0.6514 - val_f1_score: 0.6384\n",
      "Epoch 28/200\n",
      "797/797 [==============================] - 39s 49ms/step - loss: 1.4480 - accuracy: 0.6331 - f1_score: 0.6403 - val_loss: 1.3971 - val_accuracy: 0.6552 - val_f1_score: 0.6477\n",
      "Epoch 29/200\n",
      "797/797 [==============================] - 36s 46ms/step - loss: 1.4277 - accuracy: 0.6389 - f1_score: 0.6461 - val_loss: 1.3744 - val_accuracy: 0.6635 - val_f1_score: 0.6499\n",
      "Epoch 30/200\n",
      "797/797 [==============================] - 36s 46ms/step - loss: 1.4080 - accuracy: 0.6449 - f1_score: 0.6591 - val_loss: 1.3664 - val_accuracy: 0.6598 - val_f1_score: 0.6394\n",
      "Epoch 31/200\n",
      "797/797 [==============================] - 36s 45ms/step - loss: 1.4021 - accuracy: 0.6458 - f1_score: 0.6514 - val_loss: 1.3607 - val_accuracy: 0.6646 - val_f1_score: 0.6504\n",
      "Epoch 32/200\n",
      "797/797 [==============================] - 37s 46ms/step - loss: 1.4022 - accuracy: 0.6492 - f1_score: 0.6564 - val_loss: 1.3478 - val_accuracy: 0.6654 - val_f1_score: 0.6517\n",
      "Epoch 33/200\n",
      "797/797 [==============================] - 37s 46ms/step - loss: 1.3770 - accuracy: 0.6500 - f1_score: 0.6619 - val_loss: 1.3472 - val_accuracy: 0.6646 - val_f1_score: 0.6478\n",
      "Epoch 34/200\n",
      "797/797 [==============================] - 36s 46ms/step - loss: 1.3816 - accuracy: 0.6497 - f1_score: 0.6577 - val_loss: 1.3455 - val_accuracy: 0.6657 - val_f1_score: 0.6484\n",
      "Epoch 35/200\n",
      "797/797 [==============================] - 36s 46ms/step - loss: 1.3537 - accuracy: 0.6578 - f1_score: 0.6783 - val_loss: 1.3299 - val_accuracy: 0.6662 - val_f1_score: 0.6515\n",
      "Epoch 36/200\n",
      "797/797 [==============================] - 37s 46ms/step - loss: 1.3309 - accuracy: 0.6622 - f1_score: 0.6763 - val_loss: 1.3243 - val_accuracy: 0.6727 - val_f1_score: 0.6651\n",
      "Epoch 37/200\n",
      "797/797 [==============================] - 36s 46ms/step - loss: 1.3263 - accuracy: 0.6636 - f1_score: 0.6767 - val_loss: 1.3155 - val_accuracy: 0.6743 - val_f1_score: 0.6585\n",
      "Epoch 38/200\n",
      "797/797 [==============================] - 36s 45ms/step - loss: 1.3380 - accuracy: 0.6556 - f1_score: 0.6652 - val_loss: 1.3033 - val_accuracy: 0.6727 - val_f1_score: 0.6536\n",
      "Epoch 39/200\n",
      "797/797 [==============================] - 37s 46ms/step - loss: 1.3202 - accuracy: 0.6593 - f1_score: 0.6737 - val_loss: 1.3179 - val_accuracy: 0.6778 - val_f1_score: 0.6586\n",
      "Epoch 40/200\n",
      "797/797 [==============================] - 36s 46ms/step - loss: 1.3245 - accuracy: 0.6637 - f1_score: 0.6825 - val_loss: 1.2996 - val_accuracy: 0.6735 - val_f1_score: 0.6599\n",
      "Epoch 41/200\n",
      "797/797 [==============================] - 36s 46ms/step - loss: 1.3085 - accuracy: 0.6645 - f1_score: 0.6801 - val_loss: 1.2970 - val_accuracy: 0.6716 - val_f1_score: 0.6554\n",
      "Epoch 42/200\n",
      "797/797 [==============================] - 36s 46ms/step - loss: 1.2994 - accuracy: 0.6672 - f1_score: 0.6841 - val_loss: 1.2869 - val_accuracy: 0.6805 - val_f1_score: 0.6763\n",
      "Epoch 43/200\n",
      "797/797 [==============================] - 36s 46ms/step - loss: 1.3032 - accuracy: 0.6636 - f1_score: 0.6798 - val_loss: 1.2839 - val_accuracy: 0.6810 - val_f1_score: 0.6663\n",
      "Epoch 44/200\n",
      "797/797 [==============================] - 36s 46ms/step - loss: 1.2768 - accuracy: 0.6726 - f1_score: 0.6942 - val_loss: 1.2833 - val_accuracy: 0.6789 - val_f1_score: 0.6664\n",
      "Epoch 45/200\n",
      "797/797 [==============================] - 36s 46ms/step - loss: 1.2713 - accuracy: 0.6752 - f1_score: 0.6911 - val_loss: 1.2773 - val_accuracy: 0.6791 - val_f1_score: 0.6647\n",
      "Epoch 46/200\n",
      "797/797 [==============================] - 37s 46ms/step - loss: 1.2669 - accuracy: 0.6738 - f1_score: 0.6991 - val_loss: 1.2675 - val_accuracy: 0.6813 - val_f1_score: 0.6654\n",
      "Epoch 47/200\n",
      "797/797 [==============================] - 37s 46ms/step - loss: 1.2456 - accuracy: 0.6766 - f1_score: 0.7026 - val_loss: 1.2651 - val_accuracy: 0.6810 - val_f1_score: 0.6660\n",
      "Epoch 48/200\n",
      "797/797 [==============================] - 36s 46ms/step - loss: 1.2528 - accuracy: 0.6761 - f1_score: 0.6960 - val_loss: 1.2641 - val_accuracy: 0.6837 - val_f1_score: 0.6718\n",
      "Epoch 49/200\n",
      "797/797 [==============================] - 36s 46ms/step - loss: 1.2334 - accuracy: 0.6793 - f1_score: 0.7020 - val_loss: 1.2624 - val_accuracy: 0.6818 - val_f1_score: 0.6630\n",
      "Epoch 50/200\n",
      "797/797 [==============================] - 36s 46ms/step - loss: 1.2493 - accuracy: 0.6786 - f1_score: 0.7040 - val_loss: 1.2548 - val_accuracy: 0.6832 - val_f1_score: 0.6718\n",
      "Epoch 51/200\n",
      "797/797 [==============================] - 36s 46ms/step - loss: 1.2368 - accuracy: 0.6820 - f1_score: 0.7025 - val_loss: 1.2459 - val_accuracy: 0.6894 - val_f1_score: 0.6758\n",
      "Epoch 52/200\n",
      "797/797 [==============================] - 36s 46ms/step - loss: 1.2250 - accuracy: 0.6845 - f1_score: 0.7065 - val_loss: 1.2430 - val_accuracy: 0.6827 - val_f1_score: 0.6692\n",
      "Epoch 53/200\n",
      "797/797 [==============================] - 37s 46ms/step - loss: 1.2208 - accuracy: 0.6865 - f1_score: 0.7136 - val_loss: 1.2400 - val_accuracy: 0.6840 - val_f1_score: 0.6709\n",
      "Epoch 54/200\n",
      "797/797 [==============================] - 36s 46ms/step - loss: 1.2074 - accuracy: 0.6887 - f1_score: 0.7203 - val_loss: 1.2508 - val_accuracy: 0.6867 - val_f1_score: 0.6806\n",
      "Epoch 55/200\n",
      "797/797 [==============================] - 36s 45ms/step - loss: 1.2059 - accuracy: 0.6873 - f1_score: 0.7123 - val_loss: 1.2380 - val_accuracy: 0.6867 - val_f1_score: 0.6729\n",
      "Epoch 56/200\n",
      "797/797 [==============================] - 36s 46ms/step - loss: 1.2055 - accuracy: 0.6879 - f1_score: 0.7150 - val_loss: 1.2345 - val_accuracy: 0.6891 - val_f1_score: 0.6783\n",
      "Epoch 57/200\n",
      "797/797 [==============================] - 36s 45ms/step - loss: 1.1999 - accuracy: 0.6868 - f1_score: 0.7121 - val_loss: 1.2420 - val_accuracy: 0.6859 - val_f1_score: 0.6747\n",
      "Epoch 58/200\n",
      "797/797 [==============================] - 36s 46ms/step - loss: 1.1990 - accuracy: 0.6875 - f1_score: 0.7162 - val_loss: 1.2351 - val_accuracy: 0.6902 - val_f1_score: 0.6830\n",
      "Epoch 59/200\n",
      "797/797 [==============================] - 36s 46ms/step - loss: 1.1932 - accuracy: 0.6911 - f1_score: 0.7141 - val_loss: 1.2272 - val_accuracy: 0.6915 - val_f1_score: 0.6857\n",
      "Epoch 60/200\n",
      "797/797 [==============================] - 37s 46ms/step - loss: 1.1805 - accuracy: 0.6939 - f1_score: 0.7261 - val_loss: 1.2252 - val_accuracy: 0.6872 - val_f1_score: 0.6763\n",
      "Epoch 61/200\n",
      "797/797 [==============================] - 36s 46ms/step - loss: 1.1850 - accuracy: 0.6883 - f1_score: 0.7191 - val_loss: 1.2238 - val_accuracy: 0.6894 - val_f1_score: 0.6763\n",
      "Epoch 62/200\n",
      "797/797 [==============================] - 36s 46ms/step - loss: 1.1506 - accuracy: 0.7042 - f1_score: 0.7310 - val_loss: 1.2134 - val_accuracy: 0.6937 - val_f1_score: 0.6802\n",
      "Epoch 63/200\n",
      "797/797 [==============================] - 36s 45ms/step - loss: 1.1607 - accuracy: 0.7001 - f1_score: 0.7254 - val_loss: 1.2078 - val_accuracy: 0.6921 - val_f1_score: 0.6838\n",
      "Epoch 64/200\n",
      "797/797 [==============================] - 37s 46ms/step - loss: 1.1681 - accuracy: 0.6976 - f1_score: 0.7238 - val_loss: 1.2220 - val_accuracy: 0.6902 - val_f1_score: 0.6803\n",
      "Epoch 65/200\n",
      "797/797 [==============================] - 36s 46ms/step - loss: 1.1513 - accuracy: 0.7008 - f1_score: 0.7274 - val_loss: 1.2122 - val_accuracy: 0.6907 - val_f1_score: 0.6741\n",
      "Epoch 66/200\n",
      "797/797 [==============================] - 37s 46ms/step - loss: 1.1342 - accuracy: 0.7062 - f1_score: 0.7368 - val_loss: 1.2095 - val_accuracy: 0.6910 - val_f1_score: 0.6771\n",
      "Epoch 67/200\n",
      "797/797 [==============================] - 37s 46ms/step - loss: 1.1269 - accuracy: 0.7088 - f1_score: 0.7447 - val_loss: 1.2127 - val_accuracy: 0.6945 - val_f1_score: 0.6810\n",
      "Epoch 68/200\n",
      "797/797 [==============================] - 37s 47ms/step - loss: 1.1388 - accuracy: 0.7000 - f1_score: 0.7262 - val_loss: 1.2107 - val_accuracy: 0.6891 - val_f1_score: 0.6759\n",
      "Epoch 69/200\n",
      "797/797 [==============================] - 38s 48ms/step - loss: 1.1405 - accuracy: 0.7051 - f1_score: 0.7352 - val_loss: 1.1985 - val_accuracy: 0.6977 - val_f1_score: 0.6892\n",
      "Epoch 70/200\n",
      "797/797 [==============================] - 37s 46ms/step - loss: 1.1350 - accuracy: 0.7040 - f1_score: 0.7371 - val_loss: 1.1995 - val_accuracy: 0.6985 - val_f1_score: 0.6932\n",
      "Epoch 71/200\n",
      "797/797 [==============================] - 38s 47ms/step - loss: 1.1248 - accuracy: 0.7029 - f1_score: 0.7375 - val_loss: 1.2020 - val_accuracy: 0.6929 - val_f1_score: 0.6807\n",
      "Epoch 72/200\n",
      "797/797 [==============================] - 38s 47ms/step - loss: 1.1344 - accuracy: 0.7029 - f1_score: 0.7327 - val_loss: 1.1948 - val_accuracy: 0.6980 - val_f1_score: 0.6839\n",
      "Epoch 73/200\n",
      "797/797 [==============================] - 37s 46ms/step - loss: 1.1238 - accuracy: 0.7055 - f1_score: 0.7420 - val_loss: 1.1943 - val_accuracy: 0.6945 - val_f1_score: 0.6837\n",
      "Epoch 74/200\n",
      "797/797 [==============================] - 37s 47ms/step - loss: 1.1183 - accuracy: 0.7069 - f1_score: 0.7338 - val_loss: 1.1951 - val_accuracy: 0.6945 - val_f1_score: 0.6825\n",
      "Epoch 75/200\n",
      "797/797 [==============================] - 37s 46ms/step - loss: 1.1133 - accuracy: 0.7098 - f1_score: 0.7465 - val_loss: 1.1938 - val_accuracy: 0.6929 - val_f1_score: 0.6776\n",
      "Epoch 76/200\n",
      "797/797 [==============================] - 38s 47ms/step - loss: 1.1063 - accuracy: 0.7070 - f1_score: 0.7362 - val_loss: 1.1970 - val_accuracy: 0.6921 - val_f1_score: 0.6834\n",
      "Epoch 77/200\n",
      "797/797 [==============================] - 38s 48ms/step - loss: 1.0954 - accuracy: 0.7095 - f1_score: 0.7455 - val_loss: 1.1944 - val_accuracy: 0.6956 - val_f1_score: 0.6813\n",
      "Epoch 78/200\n",
      "797/797 [==============================] - 37s 47ms/step - loss: 1.0924 - accuracy: 0.7166 - f1_score: 0.7531 - val_loss: 1.1922 - val_accuracy: 0.6915 - val_f1_score: 0.6852\n",
      "Epoch 79/200\n",
      "797/797 [==============================] - 39s 48ms/step - loss: 1.1065 - accuracy: 0.7089 - f1_score: 0.7416 - val_loss: 1.1754 - val_accuracy: 0.7045 - val_f1_score: 0.7004\n",
      "Epoch 80/200\n",
      "797/797 [==============================] - 37s 46ms/step - loss: 1.0900 - accuracy: 0.7099 - f1_score: 0.7456 - val_loss: 1.1851 - val_accuracy: 0.6980 - val_f1_score: 0.6935\n",
      "Epoch 81/200\n",
      "797/797 [==============================] - 38s 47ms/step - loss: 1.0889 - accuracy: 0.7175 - f1_score: 0.7526 - val_loss: 1.1786 - val_accuracy: 0.7050 - val_f1_score: 0.6923\n",
      "Epoch 82/200\n",
      "797/797 [==============================] - 36s 46ms/step - loss: 1.0763 - accuracy: 0.7142 - f1_score: 0.7471 - val_loss: 1.1817 - val_accuracy: 0.6983 - val_f1_score: 0.6843\n",
      "Epoch 83/200\n",
      "797/797 [==============================] - 37s 46ms/step - loss: 1.0978 - accuracy: 0.7140 - f1_score: 0.7503 - val_loss: 1.1809 - val_accuracy: 0.7007 - val_f1_score: 0.6942\n",
      "Epoch 84/200\n",
      "797/797 [==============================] - 37s 47ms/step - loss: 1.0850 - accuracy: 0.7142 - f1_score: 0.7476 - val_loss: 1.1856 - val_accuracy: 0.6961 - val_f1_score: 0.6878\n",
      "Epoch 85/200\n",
      "797/797 [==============================] - 38s 48ms/step - loss: 1.0855 - accuracy: 0.7171 - f1_score: 0.7511 - val_loss: 1.1873 - val_accuracy: 0.6956 - val_f1_score: 0.6803\n",
      "Epoch 86/200\n",
      "797/797 [==============================] - 37s 46ms/step - loss: 1.0716 - accuracy: 0.7157 - f1_score: 0.7486 - val_loss: 1.1687 - val_accuracy: 0.7015 - val_f1_score: 0.6917\n",
      "Epoch 87/200\n",
      "797/797 [==============================] - 37s 47ms/step - loss: 1.0821 - accuracy: 0.7153 - f1_score: 0.7484 - val_loss: 1.1847 - val_accuracy: 0.7007 - val_f1_score: 0.6854\n",
      "Epoch 88/200\n",
      "797/797 [==============================] - 36s 46ms/step - loss: 1.0569 - accuracy: 0.7189 - f1_score: 0.7538 - val_loss: 1.1794 - val_accuracy: 0.6996 - val_f1_score: 0.6877\n",
      "Epoch 89/200\n",
      "797/797 [==============================] - 36s 46ms/step - loss: 1.0587 - accuracy: 0.7173 - f1_score: 0.7543 - val_loss: 1.1701 - val_accuracy: 0.7018 - val_f1_score: 0.6945\n",
      "Epoch 90/200\n",
      "797/797 [==============================] - 37s 46ms/step - loss: 1.0737 - accuracy: 0.7150 - f1_score: 0.7567 - val_loss: 1.1803 - val_accuracy: 0.6956 - val_f1_score: 0.6847\n",
      "Epoch 91/200\n",
      "797/797 [==============================] - 37s 46ms/step - loss: 1.0463 - accuracy: 0.7240 - f1_score: 0.7544 - val_loss: 1.1765 - val_accuracy: 0.6999 - val_f1_score: 0.6883\n",
      "Epoch 92/200\n",
      "797/797 [==============================] - 37s 46ms/step - loss: 1.0501 - accuracy: 0.7244 - f1_score: 0.7642 - val_loss: 1.1734 - val_accuracy: 0.6972 - val_f1_score: 0.6794\n",
      "Epoch 93/200\n",
      "797/797 [==============================] - 38s 47ms/step - loss: 1.0451 - accuracy: 0.7268 - f1_score: 0.7592 - val_loss: 1.1718 - val_accuracy: 0.7029 - val_f1_score: 0.6910\n",
      "Epoch 94/200\n",
      "797/797 [==============================] - 37s 46ms/step - loss: 1.0420 - accuracy: 0.7250 - f1_score: 0.7629 - val_loss: 1.1726 - val_accuracy: 0.6999 - val_f1_score: 0.6873\n",
      "Epoch 95/200\n",
      "797/797 [==============================] - 37s 46ms/step - loss: 1.0495 - accuracy: 0.7214 - f1_score: 0.7575 - val_loss: 1.1760 - val_accuracy: 0.7012 - val_f1_score: 0.6906\n",
      "Epoch 96/200\n",
      "797/797 [==============================] - 36s 46ms/step - loss: 1.0453 - accuracy: 0.7262 - f1_score: 0.7613 - val_loss: 1.1689 - val_accuracy: 0.7055 - val_f1_score: 0.6890\n",
      "Epoch 97/200\n",
      "797/797 [==============================] - 38s 48ms/step - loss: 1.0452 - accuracy: 0.7225 - f1_score: 0.7631 - val_loss: 1.1734 - val_accuracy: 0.7042 - val_f1_score: 0.6951\n",
      "Epoch 98/200\n",
      "797/797 [==============================] - 36s 46ms/step - loss: 1.0218 - accuracy: 0.7309 - f1_score: 0.7662 - val_loss: 1.1701 - val_accuracy: 0.6994 - val_f1_score: 0.6839\n",
      "Epoch 99/200\n",
      "797/797 [==============================] - 37s 47ms/step - loss: 1.0418 - accuracy: 0.7217 - f1_score: 0.7648 - val_loss: 1.1741 - val_accuracy: 0.6991 - val_f1_score: 0.6933\n"
     ]
    }
   ],
   "source": [
    "callbacks = [\n",
    "    tf.keras.callbacks.EarlyStopping(\n",
    "        monitor='val_f1_score', mode='max', patience=20),\n",
    "    tf.keras.callbacks.ModelCheckpoint(\n",
    "        'model.h5', monitor='val_f1_score', mode='max', \n",
    "        save_best_only=True, save_weights_only=True)\n",
    "]\n",
    "history = model.fit(train_dataset, epochs=200, validation_data=val_dataset, \n",
    "         steps_per_epoch=TRAIN_LEN // BATCH_SIZE, callbacks=callbacks)"
   ]
  },
  {
   "cell_type": "code",
   "execution_count": 13,
   "id": "3803ad05",
   "metadata": {
    "execution": {
     "iopub.execute_input": "2022-09-22T03:26:05.266813Z",
     "iopub.status.busy": "2022-09-22T03:26:05.266384Z",
     "iopub.status.idle": "2022-09-22T03:26:55.815257Z",
     "shell.execute_reply": "2022-09-22T03:26:55.814321Z"
    },
    "papermill": {
     "duration": 55.396921,
     "end_time": "2022-09-22T03:26:55.817532",
     "exception": false,
     "start_time": "2022-09-22T03:26:00.420611",
     "status": "completed"
    },
    "tags": []
   },
   "outputs": [
    {
     "data": {
      "image/png": "[encoded data removed]",
      "text/plain": [
       "<Figure size 1008x432 with 3 Axes>"
      ]
     },
     "metadata": {
      "needs_background": "light"
     },
     "output_type": "display_data"
    }
   ],
   "source": [
    "import matplotlib.pyplot as plt\n",
    "plt.figure(figsize=(14, 6))\n",
    "plt.subplot(131)\n",
    "plt.plot(history.history['loss'], label='Train')\n",
    "plt.plot(history.history['val_loss'], label='Test')\n",
    "plt.title('Loss')\n",
    "plt.xlabel('epochs')\n",
    "plt.legend()\n",
    "\n",
    "plt.subplot(132)\n",
    "plt.plot(history.history['accuracy'], label='Train')\n",
    "plt.plot(history.history['val_accuracy'], label='Test')\n",
    "plt.title('Accuracy')\n",
    "plt.xlabel('epochs')\n",
    "plt.legend()\n",
    "\n",
    "plt.subplot(133)\n",
    "plt.plot(history.history['f1_score'], label='Train')\n",
    "plt.plot(history.history['val_f1_score'], label='Test')\n",
    "plt.title('F1 score')\n",
    "plt.xlabel('epochs')\n",
    "plt.legend()\n",
    "plt.show()"
   ]
  },
  {
   "cell_type": "markdown",
   "id": "79a6726d",
   "metadata": {
    "papermill": {
     "duration": 2.442988,
     "end_time": "2022-09-22T03:27:00.552159",
     "exception": false,
     "start_time": "2022-09-22T03:26:58.109171",
     "status": "completed"
    },
    "tags": []
   },
   "source": [
    "## Make submission"
   ]
  },
  {
   "cell_type": "code",
   "execution_count": 14,
   "id": "3ef7ef09",
   "metadata": {
    "execution": {
     "iopub.execute_input": "2022-09-22T03:27:05.134944Z",
     "iopub.status.busy": "2022-09-22T03:27:05.134486Z",
     "iopub.status.idle": "2022-09-22T03:27:05.230481Z",
     "shell.execute_reply": "2022-09-22T03:27:05.226714Z"
    },
    "papermill": {
     "duration": 2.443964,
     "end_time": "2022-09-22T03:27:05.232728",
     "exception": false,
     "start_time": "2022-09-22T03:27:02.788764",
     "status": "completed"
    },
    "tags": []
   },
   "outputs": [
    {
     "data": {
      "text/plain": [
       "array(['b48c962e0', 'a13d3dfa4', '94269c190', ..., 'b4d954bdc',\n",
       "       'f84335116', '6ab138316'], dtype=object)"
      ]
     },
     "execution_count": 14,
     "metadata": {},
     "output_type": "execute_result"
    }
   ],
   "source": [
    "model.load_weights('model.h5')\n",
    "submission = pd.read_csv(os.path.join(ROOT_DIR, 'sample_submission.csv'))\n",
    "sub_id = submission['id'].values\n",
    "sub_id"
   ]
  },
  {
   "cell_type": "code",
   "execution_count": 15,
   "id": "b87a9ccb",
   "metadata": {
    "execution": {
     "iopub.execute_input": "2022-09-22T03:27:09.739459Z",
     "iopub.status.busy": "2022-09-22T03:27:09.739089Z",
     "iopub.status.idle": "2022-09-22T03:27:14.800117Z",
     "shell.execute_reply": "2022-09-22T03:27:14.799217Z"
    },
    "papermill": {
     "duration": 7.26995,
     "end_time": "2022-09-22T03:27:14.802192",
     "exception": false,
     "start_time": "2022-09-22T03:27:07.532242",
     "status": "completed"
    },
    "tags": []
   },
   "outputs": [
    {
     "data": {
      "text/plain": [
       "array(['59d1b6146', '48c96bd6b', '7b437ba4e', ..., 'f9c931893',\n",
       "       '18c7b92b8', '523df966b'], dtype=object)"
      ]
     },
     "execution_count": 15,
     "metadata": {},
     "output_type": "execute_result"
    }
   ],
   "source": [
    "test_ds = test_dataset.unbatch().map(lambda img, ids: ids)\n",
    "test_ds = test_ds.batch(TEST_LEN)\n",
    "test_ids = next(test_ds.as_numpy_iterator()).astype('U12').astype(np.object)\n",
    "test_ids"
   ]
  },
  {
   "cell_type": "code",
   "execution_count": 16,
   "id": "e497f964",
   "metadata": {
    "execution": {
     "iopub.execute_input": "2022-09-22T03:27:19.694282Z",
     "iopub.status.busy": "2022-09-22T03:27:19.693937Z",
     "iopub.status.idle": "2022-09-22T03:27:34.168337Z",
     "shell.execute_reply": "2022-09-22T03:27:34.167431Z"
    },
    "papermill": {
     "duration": 16.702024,
     "end_time": "2022-09-22T03:27:34.170563",
     "exception": false,
     "start_time": "2022-09-22T03:27:17.468539",
     "status": "completed"
    },
    "tags": []
   },
   "outputs": [
    {
     "data": {
      "text/plain": [
       "array([ 46,  15,   9, ...,  49,  41, 102])"
      ]
     },
     "execution_count": 16,
     "metadata": {},
     "output_type": "execute_result"
    }
   ],
   "source": [
    "pred = model.predict(test_dataset).argmax(axis=-1)\n",
    "pred"
   ]
  },
  {
   "cell_type": "code",
   "execution_count": 17,
   "id": "29c92e20",
   "metadata": {
    "execution": {
     "iopub.execute_input": "2022-09-22T03:27:38.656758Z",
     "iopub.status.busy": "2022-09-22T03:27:38.656382Z",
     "iopub.status.idle": "2022-09-22T03:27:38.671830Z",
     "shell.execute_reply": "2022-09-22T03:27:38.670790Z"
    },
    "papermill": {
     "duration": 2.212101,
     "end_time": "2022-09-22T03:27:38.674179",
     "exception": false,
     "start_time": "2022-09-22T03:27:36.462078",
     "status": "completed"
    },
    "tags": []
   },
   "outputs": [
    {
     "data": {
      "text/html": [
       "<div>\n",
       "<style scoped>\n",
       "    .dataframe tbody tr th:only-of-type {\n",
       "        vertical-align: middle;\n",
       "    }\n",
       "\n",
       "    .dataframe tbody tr th {\n",
       "        vertical-align: top;\n",
       "    }\n",
       "\n",
       "    .dataframe thead th {\n",
       "        text-align: right;\n",
       "    }\n",
       "</style>\n",
       "<table border=\"1\" class=\"dataframe\">\n",
       "  <thead>\n",
       "    <tr style=\"text-align: right;\">\n",
       "      <th></th>\n",
       "      <th>id</th>\n",
       "      <th>label</th>\n",
       "    </tr>\n",
       "  </thead>\n",
       "  <tbody>\n",
       "    <tr>\n",
       "      <th>0</th>\n",
       "      <td>59d1b6146</td>\n",
       "      <td>46</td>\n",
       "    </tr>\n",
       "    <tr>\n",
       "      <th>1</th>\n",
       "      <td>48c96bd6b</td>\n",
       "      <td>15</td>\n",
       "    </tr>\n",
       "    <tr>\n",
       "      <th>2</th>\n",
       "      <td>7b437ba4e</td>\n",
       "      <td>9</td>\n",
       "    </tr>\n",
       "    <tr>\n",
       "      <th>3</th>\n",
       "      <td>1b7aef8e8</td>\n",
       "      <td>79</td>\n",
       "    </tr>\n",
       "    <tr>\n",
       "      <th>4</th>\n",
       "      <td>d6143b4d4</td>\n",
       "      <td>4</td>\n",
       "    </tr>\n",
       "    <tr>\n",
       "      <th>...</th>\n",
       "      <td>...</td>\n",
       "      <td>...</td>\n",
       "    </tr>\n",
       "    <tr>\n",
       "      <th>7377</th>\n",
       "      <td>2a608c0db</td>\n",
       "      <td>68</td>\n",
       "    </tr>\n",
       "    <tr>\n",
       "      <th>7378</th>\n",
       "      <td>d82a21bbd</td>\n",
       "      <td>93</td>\n",
       "    </tr>\n",
       "    <tr>\n",
       "      <th>7379</th>\n",
       "      <td>f9c931893</td>\n",
       "      <td>49</td>\n",
       "    </tr>\n",
       "    <tr>\n",
       "      <th>7380</th>\n",
       "      <td>18c7b92b8</td>\n",
       "      <td>41</td>\n",
       "    </tr>\n",
       "    <tr>\n",
       "      <th>7381</th>\n",
       "      <td>523df966b</td>\n",
       "      <td>102</td>\n",
       "    </tr>\n",
       "  </tbody>\n",
       "</table>\n",
       "<p>7382 rows × 2 columns</p>\n",
       "</div>"
      ],
      "text/plain": [
       "             id  label\n",
       "0     59d1b6146     46\n",
       "1     48c96bd6b     15\n",
       "2     7b437ba4e      9\n",
       "3     1b7aef8e8     79\n",
       "4     d6143b4d4      4\n",
       "...         ...    ...\n",
       "7377  2a608c0db     68\n",
       "7378  d82a21bbd     93\n",
       "7379  f9c931893     49\n",
       "7380  18c7b92b8     41\n",
       "7381  523df966b    102\n",
       "\n",
       "[7382 rows x 2 columns]"
      ]
     },
     "execution_count": 17,
     "metadata": {},
     "output_type": "execute_result"
    }
   ],
   "source": [
    "pred_ds = pd.DataFrame({'id': test_ids, 'label': pred})\n",
    "pred_ds"
   ]
  },
  {
   "cell_type": "code",
   "execution_count": 18,
   "id": "432b2125",
   "metadata": {
    "execution": {
     "iopub.execute_input": "2022-09-22T03:27:43.180857Z",
     "iopub.status.busy": "2022-09-22T03:27:43.180490Z",
     "iopub.status.idle": "2022-09-22T03:27:43.207080Z",
     "shell.execute_reply": "2022-09-22T03:27:43.206081Z"
    },
    "papermill": {
     "duration": 2.325467,
     "end_time": "2022-09-22T03:27:43.209157",
     "exception": false,
     "start_time": "2022-09-22T03:27:40.883690",
     "status": "completed"
    },
    "tags": []
   },
   "outputs": [
    {
     "data": {
      "text/html": [
       "<div>\n",
       "<style scoped>\n",
       "    .dataframe tbody tr th:only-of-type {\n",
       "        vertical-align: middle;\n",
       "    }\n",
       "\n",
       "    .dataframe tbody tr th {\n",
       "        vertical-align: top;\n",
       "    }\n",
       "\n",
       "    .dataframe thead th {\n",
       "        text-align: right;\n",
       "    }\n",
       "</style>\n",
       "<table border=\"1\" class=\"dataframe\">\n",
       "  <thead>\n",
       "    <tr style=\"text-align: right;\">\n",
       "      <th></th>\n",
       "      <th>id</th>\n",
       "      <th>label</th>\n",
       "    </tr>\n",
       "  </thead>\n",
       "  <tbody>\n",
       "    <tr>\n",
       "      <th>0</th>\n",
       "      <td>b48c962e0</td>\n",
       "      <td>25</td>\n",
       "    </tr>\n",
       "    <tr>\n",
       "      <th>1</th>\n",
       "      <td>a13d3dfa4</td>\n",
       "      <td>74</td>\n",
       "    </tr>\n",
       "    <tr>\n",
       "      <th>2</th>\n",
       "      <td>94269c190</td>\n",
       "      <td>73</td>\n",
       "    </tr>\n",
       "    <tr>\n",
       "      <th>3</th>\n",
       "      <td>bcb18c6e4</td>\n",
       "      <td>4</td>\n",
       "    </tr>\n",
       "    <tr>\n",
       "      <th>4</th>\n",
       "      <td>d15a4d94c</td>\n",
       "      <td>49</td>\n",
       "    </tr>\n",
       "    <tr>\n",
       "      <th>...</th>\n",
       "      <td>...</td>\n",
       "      <td>...</td>\n",
       "    </tr>\n",
       "    <tr>\n",
       "      <th>7377</th>\n",
       "      <td>3744d58d1</td>\n",
       "      <td>21</td>\n",
       "    </tr>\n",
       "    <tr>\n",
       "      <th>7378</th>\n",
       "      <td>075602d66</td>\n",
       "      <td>67</td>\n",
       "    </tr>\n",
       "    <tr>\n",
       "      <th>7379</th>\n",
       "      <td>b4d954bdc</td>\n",
       "      <td>80</td>\n",
       "    </tr>\n",
       "    <tr>\n",
       "      <th>7380</th>\n",
       "      <td>f84335116</td>\n",
       "      <td>40</td>\n",
       "    </tr>\n",
       "    <tr>\n",
       "      <th>7381</th>\n",
       "      <td>6ab138316</td>\n",
       "      <td>91</td>\n",
       "    </tr>\n",
       "  </tbody>\n",
       "</table>\n",
       "<p>7382 rows × 2 columns</p>\n",
       "</div>"
      ],
      "text/plain": [
       "             id  label\n",
       "0     b48c962e0     25\n",
       "1     a13d3dfa4     74\n",
       "2     94269c190     73\n",
       "3     bcb18c6e4      4\n",
       "4     d15a4d94c     49\n",
       "...         ...    ...\n",
       "7377  3744d58d1     21\n",
       "7378  075602d66     67\n",
       "7379  b4d954bdc     80\n",
       "7380  f84335116     40\n",
       "7381  6ab138316     91\n",
       "\n",
       "[7382 rows x 2 columns]"
      ]
     },
     "execution_count": 18,
     "metadata": {},
     "output_type": "execute_result"
    }
   ],
   "source": [
    "sub_pred = pd.merge(submission.drop('label', axis=1), pred_ds, how='left', on='id')\n",
    "sub_pred"
   ]
  },
  {
   "cell_type": "code",
   "execution_count": 19,
   "id": "7e396499",
   "metadata": {
    "execution": {
     "iopub.execute_input": "2022-09-22T03:27:48.313674Z",
     "iopub.status.busy": "2022-09-22T03:27:48.313193Z",
     "iopub.status.idle": "2022-09-22T03:27:48.336073Z",
     "shell.execute_reply": "2022-09-22T03:27:48.335248Z"
    },
    "papermill": {
     "duration": 2.653335,
     "end_time": "2022-09-22T03:27:48.338538",
     "exception": false,
     "start_time": "2022-09-22T03:27:45.685203",
     "status": "completed"
    },
    "tags": []
   },
   "outputs": [],
   "source": [
    "sub_pred.to_csv('submission.csv', index=False)"
   ]
  }
 ],
 "metadata": {
  "kernelspec": {
   "display_name": "Python 3",
   "language": "python",
   "name": "python3"
  },
  "language_info": {
   "codemirror_mode": {
    "name": "ipython",
    "version": 3
   },
   "file_extension": ".py",
   "mimetype": "text/x-python",
   "name": "python",
   "nbconvert_exporter": "python",
   "pygments_lexer": "ipython3",
   "version": "3.7.12"
  },
  "papermill": {
   "default_parameters": {},
   "duration": 3829.448491,
   "end_time": "2022-09-22T03:27:54.364372",
   "environment_variables": {},
   "exception": null,
   "input_path": "__notebook__.ipynb",
   "output_path": "__notebook__.ipynb",
   "parameters": {},
   "start_time": "2022-09-22T02:24:04.915881",
   "version": "2.3.4"
  }
 },
 "nbformat": 4,
 "nbformat_minor": 5
}
